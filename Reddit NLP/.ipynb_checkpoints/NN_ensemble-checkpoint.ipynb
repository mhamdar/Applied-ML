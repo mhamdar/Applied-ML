{
 "cells": [
  {
   "cell_type": "code",
   "execution_count": null,
   "metadata": {},
   "outputs": [],
   "source": [
    "import keras\n",
    "import tensorflow as tf\n",
    "from keras.models import Sequential\n",
    "from keras import layers\n",
    "from keras.utils import to_categorical\n",
    "from keras.models import Sequential\n",
    "from keras.layers import Dense, Conv1D, Flatten\n",
    "from keras.wrappers.scikit_learn import KerasClassifier\n",
    "from keras.callbacks import EarlyStopping\n",
    "from keras.callbacks import ModelCheckpoint\n",
    "from keras.callbacks import History \n",
    "from keras.models import load_model\n",
    "from keras import optimizers"
   ]
  },
  {
   "cell_type": "code",
   "execution_count": null,
   "metadata": {},
   "outputs": [],
   "source": [
    "import string\n",
    "import csv\n",
    "import numpy as np\n",
    "import pandas as pd\n",
    "\n",
    "import sklearn\n",
    "from sklearn.feature_extraction.text import TfidfVectorizer\n",
    "from sklearn.naive_bayes import MultinomialNB\n",
    "from sklearn.svm import LinearSVC\n",
    "from sklearn.model_selection import train_test_split\n",
    "from sklearn.model_selection import GridSearchCV\n",
    "from sklearn.calibration import CalibratedClassifierCV\n",
    "from sklearn.preprocessing import LabelBinarizer\n",
    "from sklearn.preprocessing import OneHotEncoder"
   ]
  },
  {
   "cell_type": "code",
   "execution_count": null,
   "metadata": {},
   "outputs": [],
   "source": [
    "tf.test.is_gpu_available()"
   ]
  },
  {
   "cell_type": "code",
   "execution_count": null,
   "metadata": {},
   "outputs": [],
   "source": [
    "train = np.genfromtxt(\"train_clean.csv\", encoding=\"utf-8\", delimiter=\"\\t\", dtype = str)\n",
    "test = np.genfromtxt(\"test_clean.csv\", encoding=\"utf-8\", delimiter=\"\\t\", dtype = str)"
   ]
  },
  {
   "cell_type": "code",
   "execution_count": null,
   "metadata": {},
   "outputs": [],
   "source": [
    "encoder = LabelBinarizer()\n",
    "tf = TfidfVectorizer() ## IMPORTANT: needs to be saved as variable. This same instance will be used later to predict using same corpus.\n",
    "X = tf.fit_transform(train[:, 0])\n",
    "y = train[:, 1]\n",
    "y = encoder.fit_transform(y)\n",
    "test = tf.transform(test)"
   ]
  },
  {
   "cell_type": "code",
   "execution_count": null,
   "metadata": {},
   "outputs": [],
   "source": [
    "X_dim0 = X.shape[0]\n",
    "X_dim1 = X.shape[1]"
   ]
  },
  {
   "cell_type": "code",
   "execution_count": null,
   "metadata": {},
   "outputs": [],
   "source": [
    "def build_model(neurons, activ1, activ2, l, lr, p):\n",
    "    \n",
    "    opt = optimizers.adam(learning_rate=lr)\n",
    "    \n",
    "    history = History()\n",
    "    \n",
    "    model = Sequential()\n",
    "    model.add(layers.Dense(neurons, input_dim=X_dim1, activation=activ1))\n",
    "    model.add(layers.Dense(20, activation=activ2))\n",
    "    model.compile(loss=l, optimizer=opt, metrics=['accuracy'])\n",
    "    return model"
   ]
  },
  {
   "cell_type": "markdown",
   "metadata": {},
   "source": [
    "Training a neural network:"
   ]
  },
  {
   "cell_type": "code",
   "execution_count": null,
   "metadata": {},
   "outputs": [],
   "source": [
    "X_train, X_test, y_train, y_test = train_test_split(X, y, test_size=0.1)\n",
    "history = History()\n",
    "model = build_model(neurons=500, activ1='relu', activ2='softmax', l='categorical_crossentropy', lr=0.0001, p=3)\n",
    "model.fit(X_train, y_train, epochs=25, batch_size=100, validation_data=(X_test, y_test), callbacks=[history])"
   ]
  },
  {
   "cell_type": "markdown",
   "metadata": {},
   "source": [
    "Ensembling a neural network, MNB, and SVM:"
   ]
  },
  {
   "cell_type": "code",
   "execution_count": null,
   "metadata": {},
   "outputs": [],
   "source": [
    "neural = build_model(neurons=500, activ1='relu', activ2='softmax', l='categorical_crossentropy', lr=0.0001, p=3)\n",
    "MNB = MultinomialNB(alpha=0.175)\n",
    "SVM = LinearSVC(C=0.25, loss='squared_hinge', penalty='l2')\n",
    "SVM = CalibratedClassifierCV(SVM)"
   ]
  },
  {
   "cell_type": "code",
   "execution_count": null,
   "metadata": {},
   "outputs": [],
   "source": [
    "neural.fit(X, y, epochs=8, batch_size=100)\n",
    "MNB.fit(X, encoder.inverse_transform(y))\n",
    "SVM.fit(X, encoder.inverse_transform(y))"
   ]
  },
  {
   "cell_type": "code",
   "execution_count": null,
   "metadata": {},
   "outputs": [],
   "source": [
    "neural_preds = neural.predict(test)\n",
    "MNB_preds = MNB.predict_proba(test)\n",
    "SVM_preds = SVM.predict_proba(test)"
   ]
  },
  {
   "cell_type": "markdown",
   "metadata": {},
   "source": [
    "Summing the probability predictions:"
   ]
  },
  {
   "cell_type": "code",
   "execution_count": null,
   "metadata": {},
   "outputs": [],
   "source": [
    "final_preds = neural_preds + MNB_preds + SVM_preds\n",
    "final_preds = final_preds / 3\n",
    "ensemble_predictions = encoder.inverse_transform(final_preds)"
   ]
  },
  {
   "cell_type": "markdown",
   "metadata": {},
   "source": [
    "Outputting the predictions:"
   ]
  },
  {
   "cell_type": "code",
   "execution_count": null,
   "metadata": {},
   "outputs": [],
   "source": [
    "wtr = csv.writer(open ('nn_ensemble_predictions.csv', 'w'), delimiter=',', lineterminator='\\n')\n",
    "for p in ensemble_predictions : wtr.writerow ([p])"
   ]
  },
  {
   "cell_type": "code",
   "execution_count": null,
   "metadata": {},
   "outputs": [],
   "source": []
  }
 ],
 "metadata": {
  "kernelspec": {
   "display_name": "Python 3",
   "language": "python",
   "name": "python3"
  },
  "language_info": {
   "codemirror_mode": {
    "name": "ipython",
    "version": 3
   },
   "file_extension": ".py",
   "mimetype": "text/x-python",
   "name": "python",
   "nbconvert_exporter": "python",
   "pygments_lexer": "ipython3",
   "version": "3.7.4"
  }
 },
 "nbformat": 4,
 "nbformat_minor": 2
}
