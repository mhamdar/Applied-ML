{
 "cells": [
  {
   "cell_type": "code",
   "execution_count": 361,
   "metadata": {},
   "outputs": [],
   "source": [
    "import numpy as np\n",
    "from scipy import stats\n",
    "import numpy as np\n",
    "#from sklearn.naive_bayes import BernoulliNB\n",
    "#from sklearn.naive_bayes import MultinomialNB\n",
    "class BNB:\n",
    "    def __init__(self, x,y,alpha):\n",
    "        #matrix of possible probs\n",
    "        self.classes=np.unique(y)\n",
    "        self.pList=np.zeros(shape=(len(self.classes),len(x.T)))\n",
    "        self.logPrior=np.zeros(shape=(len(self.classes),))\n",
    "        self.x=x\n",
    "        self.y=y\n",
    "        for catg in range(len(self.classes)):\n",
    "              for feature in range(len(x.T)):\n",
    "                    self.pList[self.classes[catg]][feature]=((x[y == catg])[:,feature].sum()+alpha)/(float((y==catg).sum())+alpha*len(self.classes))\n",
    "        for catg in self.classes:\n",
    "            self.logPrior[self.classes[catg]]=(y == catg).sum()/float(len(y))\n",
    "        self.logPrior=np.log(self.logPrior)\n",
    "            \n",
    "    def predict(self,x):\n",
    "        prob=0\n",
    "        for i in range(len(x.T)):\n",
    "            if x[i]==1:\n",
    "                prob=prob+np.log(self.pList[:,i])\n",
    "            else:\n",
    "                prob=prob+np.log((1-self.pList[:,i]))\n",
    "        prob+=self.logPrior\n",
    "        return prob.argmax()\n",
    "               "
   ]
  },
  {
   "cell_type": "code",
   "execution_count": 336,
   "metadata": {},
   "outputs": [],
   "source": []
  }
 ],
 "metadata": {
  "kernelspec": {
   "display_name": "Python 3",
   "language": "python",
   "name": "python3"
  },
  "language_info": {
   "codemirror_mode": {
    "name": "ipython",
    "version": 3
   },
   "file_extension": ".py",
   "mimetype": "text/x-python",
   "name": "python",
   "nbconvert_exporter": "python",
   "pygments_lexer": "ipython3",
   "version": "3.7.3"
  }
 },
 "nbformat": 4,
 "nbformat_minor": 4
}
