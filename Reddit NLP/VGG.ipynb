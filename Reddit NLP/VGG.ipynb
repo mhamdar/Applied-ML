{
  "nbformat": 4,
  "nbformat_minor": 0,
  "metadata": {
    "colab": {
      "name": "Untitled0.ipynb",
      "provenance": [],
      "collapsed_sections": []
    },
    "kernelspec": {
      "name": "python3",
      "display_name": "Python 3"
    },
    "accelerator": "GPU"
  },
  "cells": [
    {
      "cell_type": "code",
      "metadata": {
        "id": "anxbnUleHYO7",
        "colab_type": "code",
        "outputId": "324cf056-ee6b-4077-888f-0fb4eeb83968",
        "colab": {
          "base_uri": "https://localhost:8080/",
          "height": 530
        }
      },
      "source": [
        "#IMPORTANT: NEEDS KAGGLE API KEY UPLOADED IN ROOT DIRECTORY\n",
        "\n",
        "!pip install kaggle\n",
        "!mkdir ~/.kaggle\n",
        "!cp kaggle.json ~/.kaggle/\n",
        "!ls ~/.kaggle\n",
        "!chmod 600 /root/.kaggle/kaggle.json  # set permission\n",
        "\n",
        "!mkdir data\n",
        "!kaggle competitions download -p data/ -c modified-mnist\n",
        "\n",
        "!unzip -d data/ 'data/*.zip'\n",
        "\n"
      ],
      "execution_count": 0,
      "outputs": [
        {
          "output_type": "stream",
          "text": [
            "Requirement already satisfied: kaggle in /usr/local/lib/python3.6/dist-packages (1.5.6)\n",
            "Requirement already satisfied: six>=1.10 in /usr/local/lib/python3.6/dist-packages (from kaggle) (1.12.0)\n",
            "Requirement already satisfied: tqdm in /usr/local/lib/python3.6/dist-packages (from kaggle) (4.28.1)\n",
            "Requirement already satisfied: urllib3<1.25,>=1.21.1 in /usr/local/lib/python3.6/dist-packages (from kaggle) (1.24.3)\n",
            "Requirement already satisfied: requests in /usr/local/lib/python3.6/dist-packages (from kaggle) (2.21.0)\n",
            "Requirement already satisfied: python-slugify in /usr/local/lib/python3.6/dist-packages (from kaggle) (4.0.0)\n",
            "Requirement already satisfied: python-dateutil in /usr/local/lib/python3.6/dist-packages (from kaggle) (2.6.1)\n",
            "Requirement already satisfied: certifi in /usr/local/lib/python3.6/dist-packages (from kaggle) (2019.9.11)\n",
            "Requirement already satisfied: chardet<3.1.0,>=3.0.2 in /usr/local/lib/python3.6/dist-packages (from requests->kaggle) (3.0.4)\n",
            "Requirement already satisfied: idna<2.9,>=2.5 in /usr/local/lib/python3.6/dist-packages (from requests->kaggle) (2.8)\n",
            "Requirement already satisfied: text-unidecode>=1.3 in /usr/local/lib/python3.6/dist-packages (from python-slugify->kaggle) (1.3)\n",
            "kaggle.json\n",
            "Warning: Looks like you're using an outdated API Version, please consider updating (server 1.5.6 / client 1.5.4)\n",
            "Downloading test_max_x.zip to data\n",
            " 93% 182M/196M [00:01<00:00, 109MB/s] \n",
            "100% 196M/196M [00:01<00:00, 107MB/s]\n",
            "Downloading train_max_x.zip to data\n",
            "100% 975M/980M [00:07<00:00, 54.4MB/s]\n",
            "100% 980M/980M [00:07<00:00, 141MB/s] \n",
            "Downloading train_max_y.csv to data\n",
            "  0% 0.00/575k [00:00<?, ?B/s]\n",
            "100% 575k/575k [00:00<00:00, 58.6MB/s]\n",
            "Archive:  data/train_max_x.zip\n",
            "  inflating: data/train_max_x        \n",
            "\n",
            "Archive:  data/test_max_x.zip\n",
            "  inflating: data/test_max_x         \n",
            "\n",
            "2 archives were successfully processed.\n"
          ],
          "name": "stdout"
        }
      ]
    },
    {
      "cell_type": "code",
      "metadata": {
        "id": "d3QxuQMYS6n4",
        "colab_type": "code",
        "outputId": "0caeee8c-7146-489c-a33f-a2788bdc8989",
        "colab": {
          "base_uri": "https://localhost:8080/",
          "height": 1000
        }
      },
      "source": [
        "!pip install --upgrade tensorflow-gpu\n"
      ],
      "execution_count": 0,
      "outputs": [
        {
          "output_type": "stream",
          "text": [
            "Collecting tensorflow-gpu\n",
            "\u001b[?25l  Downloading https://files.pythonhosted.org/packages/25/44/47f0722aea081697143fbcf5d2aa60d1aee4aaacb5869aee2b568974777b/tensorflow_gpu-2.0.0-cp36-cp36m-manylinux2010_x86_64.whl (380.8MB)\n",
            "\u001b[K     |████████████████████████████████| 380.8MB 45kB/s \n",
            "\u001b[?25hRequirement already satisfied, skipping upgrade: keras-preprocessing>=1.0.5 in /usr/local/lib/python3.6/dist-packages (from tensorflow-gpu) (1.1.0)\n",
            "Requirement already satisfied, skipping upgrade: numpy<2.0,>=1.16.0 in /usr/local/lib/python3.6/dist-packages (from tensorflow-gpu) (1.17.4)\n",
            "Requirement already satisfied, skipping upgrade: grpcio>=1.8.6 in /usr/local/lib/python3.6/dist-packages (from tensorflow-gpu) (1.15.0)\n",
            "Collecting tensorboard<2.1.0,>=2.0.0\n",
            "\u001b[?25l  Downloading https://files.pythonhosted.org/packages/d3/9e/a48cd34dd7b672ffc227b566f7d16d63c62c58b542d54efa45848c395dd4/tensorboard-2.0.1-py3-none-any.whl (3.8MB)\n",
            "\u001b[K     |████████████████████████████████| 3.8MB 38.0MB/s \n",
            "\u001b[?25hCollecting tensorflow-estimator<2.1.0,>=2.0.0\n",
            "\u001b[?25l  Downloading https://files.pythonhosted.org/packages/fc/08/8b927337b7019c374719145d1dceba21a8bb909b93b1ad6f8fb7d22c1ca1/tensorflow_estimator-2.0.1-py2.py3-none-any.whl (449kB)\n",
            "\u001b[K     |████████████████████████████████| 450kB 46.5MB/s \n",
            "\u001b[?25hRequirement already satisfied, skipping upgrade: google-pasta>=0.1.6 in /usr/local/lib/python3.6/dist-packages (from tensorflow-gpu) (0.1.8)\n",
            "Requirement already satisfied, skipping upgrade: absl-py>=0.7.0 in /usr/local/lib/python3.6/dist-packages (from tensorflow-gpu) (0.8.1)\n",
            "Requirement already satisfied, skipping upgrade: keras-applications>=1.0.8 in /usr/local/lib/python3.6/dist-packages (from tensorflow-gpu) (1.0.8)\n",
            "Requirement already satisfied, skipping upgrade: six>=1.10.0 in /usr/local/lib/python3.6/dist-packages (from tensorflow-gpu) (1.12.0)\n",
            "Requirement already satisfied, skipping upgrade: opt-einsum>=2.3.2 in /usr/local/lib/python3.6/dist-packages (from tensorflow-gpu) (3.1.0)\n",
            "Requirement already satisfied, skipping upgrade: astor>=0.6.0 in /usr/local/lib/python3.6/dist-packages (from tensorflow-gpu) (0.8.0)\n",
            "Requirement already satisfied, skipping upgrade: wheel>=0.26 in /usr/local/lib/python3.6/dist-packages (from tensorflow-gpu) (0.33.6)\n",
            "Requirement already satisfied, skipping upgrade: wrapt>=1.11.1 in /usr/local/lib/python3.6/dist-packages (from tensorflow-gpu) (1.11.2)\n",
            "Requirement already satisfied, skipping upgrade: termcolor>=1.1.0 in /usr/local/lib/python3.6/dist-packages (from tensorflow-gpu) (1.1.0)\n",
            "Requirement already satisfied, skipping upgrade: protobuf>=3.6.1 in /usr/local/lib/python3.6/dist-packages (from tensorflow-gpu) (3.10.0)\n",
            "Requirement already satisfied, skipping upgrade: gast==0.2.2 in /usr/local/lib/python3.6/dist-packages (from tensorflow-gpu) (0.2.2)\n",
            "Requirement already satisfied, skipping upgrade: werkzeug>=0.11.15 in /usr/local/lib/python3.6/dist-packages (from tensorboard<2.1.0,>=2.0.0->tensorflow-gpu) (0.16.0)\n",
            "Requirement already satisfied, skipping upgrade: setuptools>=41.0.0 in /usr/local/lib/python3.6/dist-packages (from tensorboard<2.1.0,>=2.0.0->tensorflow-gpu) (41.4.0)\n",
            "Requirement already satisfied, skipping upgrade: markdown>=2.6.8 in /usr/local/lib/python3.6/dist-packages (from tensorboard<2.1.0,>=2.0.0->tensorflow-gpu) (3.1.1)\n",
            "Requirement already satisfied, skipping upgrade: google-auth-oauthlib<0.5,>=0.4.1 in /usr/local/lib/python3.6/dist-packages (from tensorboard<2.1.0,>=2.0.0->tensorflow-gpu) (0.4.1)\n",
            "Collecting google-auth<2,>=1.6.3\n",
            "\u001b[?25l  Downloading https://files.pythonhosted.org/packages/2f/81/d1e7d9974ba7c886f6d133a8baae18cb8d92b2d09bcc4f46328306825de0/google_auth-1.7.0-py2.py3-none-any.whl (74kB)\n",
            "\u001b[K     |████████████████████████████████| 81kB 11.4MB/s \n",
            "\u001b[?25hRequirement already satisfied, skipping upgrade: h5py in /usr/local/lib/python3.6/dist-packages (from keras-applications>=1.0.8->tensorflow-gpu) (2.8.0)\n",
            "Requirement already satisfied, skipping upgrade: requests-oauthlib>=0.7.0 in /usr/local/lib/python3.6/dist-packages (from google-auth-oauthlib<0.5,>=0.4.1->tensorboard<2.1.0,>=2.0.0->tensorflow-gpu) (1.3.0)\n",
            "Requirement already satisfied, skipping upgrade: cachetools<3.2,>=2.0.0 in /usr/local/lib/python3.6/dist-packages (from google-auth<2,>=1.6.3->tensorboard<2.1.0,>=2.0.0->tensorflow-gpu) (3.1.1)\n",
            "Requirement already satisfied, skipping upgrade: pyasn1-modules>=0.2.1 in /usr/local/lib/python3.6/dist-packages (from google-auth<2,>=1.6.3->tensorboard<2.1.0,>=2.0.0->tensorflow-gpu) (0.2.7)\n",
            "Requirement already satisfied, skipping upgrade: rsa<4.1,>=3.1.4 in /usr/local/lib/python3.6/dist-packages (from google-auth<2,>=1.6.3->tensorboard<2.1.0,>=2.0.0->tensorflow-gpu) (4.0)\n",
            "Requirement already satisfied, skipping upgrade: oauthlib>=3.0.0 in /usr/local/lib/python3.6/dist-packages (from requests-oauthlib>=0.7.0->google-auth-oauthlib<0.5,>=0.4.1->tensorboard<2.1.0,>=2.0.0->tensorflow-gpu) (3.1.0)\n",
            "Requirement already satisfied, skipping upgrade: requests>=2.0.0 in /usr/local/lib/python3.6/dist-packages (from requests-oauthlib>=0.7.0->google-auth-oauthlib<0.5,>=0.4.1->tensorboard<2.1.0,>=2.0.0->tensorflow-gpu) (2.21.0)\n",
            "Requirement already satisfied, skipping upgrade: pyasn1<0.5.0,>=0.4.6 in /usr/local/lib/python3.6/dist-packages (from pyasn1-modules>=0.2.1->google-auth<2,>=1.6.3->tensorboard<2.1.0,>=2.0.0->tensorflow-gpu) (0.4.7)\n",
            "Requirement already satisfied, skipping upgrade: idna<2.9,>=2.5 in /usr/local/lib/python3.6/dist-packages (from requests>=2.0.0->requests-oauthlib>=0.7.0->google-auth-oauthlib<0.5,>=0.4.1->tensorboard<2.1.0,>=2.0.0->tensorflow-gpu) (2.8)\n",
            "Requirement already satisfied, skipping upgrade: chardet<3.1.0,>=3.0.2 in /usr/local/lib/python3.6/dist-packages (from requests>=2.0.0->requests-oauthlib>=0.7.0->google-auth-oauthlib<0.5,>=0.4.1->tensorboard<2.1.0,>=2.0.0->tensorflow-gpu) (3.0.4)\n",
            "Requirement already satisfied, skipping upgrade: certifi>=2017.4.17 in /usr/local/lib/python3.6/dist-packages (from requests>=2.0.0->requests-oauthlib>=0.7.0->google-auth-oauthlib<0.5,>=0.4.1->tensorboard<2.1.0,>=2.0.0->tensorflow-gpu) (2019.9.11)\n",
            "Requirement already satisfied, skipping upgrade: urllib3<1.25,>=1.21.1 in /usr/local/lib/python3.6/dist-packages (from requests>=2.0.0->requests-oauthlib>=0.7.0->google-auth-oauthlib<0.5,>=0.4.1->tensorboard<2.1.0,>=2.0.0->tensorflow-gpu) (1.24.3)\n",
            "\u001b[31mERROR: tensorflow 1.15.0 has requirement tensorboard<1.16.0,>=1.15.0, but you'll have tensorboard 2.0.1 which is incompatible.\u001b[0m\n",
            "\u001b[31mERROR: tensorflow 1.15.0 has requirement tensorflow-estimator==1.15.1, but you'll have tensorflow-estimator 2.0.1 which is incompatible.\u001b[0m\n",
            "\u001b[31mERROR: tensorboard 2.0.1 has requirement grpcio>=1.24.3, but you'll have grpcio 1.15.0 which is incompatible.\u001b[0m\n",
            "\u001b[31mERROR: google-colab 1.0.0 has requirement google-auth~=1.4.0, but you'll have google-auth 1.7.0 which is incompatible.\u001b[0m\n",
            "Installing collected packages: google-auth, tensorboard, tensorflow-estimator, tensorflow-gpu\n",
            "  Found existing installation: google-auth 1.4.2\n",
            "    Uninstalling google-auth-1.4.2:\n",
            "      Successfully uninstalled google-auth-1.4.2\n",
            "  Found existing installation: tensorboard 1.15.0\n",
            "    Uninstalling tensorboard-1.15.0:\n",
            "      Successfully uninstalled tensorboard-1.15.0\n",
            "  Found existing installation: tensorflow-estimator 1.15.1\n",
            "    Uninstalling tensorflow-estimator-1.15.1:\n",
            "      Successfully uninstalled tensorflow-estimator-1.15.1\n",
            "Successfully installed google-auth-1.7.0 tensorboard-2.0.1 tensorflow-estimator-2.0.1 tensorflow-gpu-2.0.0\n"
          ],
          "name": "stdout"
        },
        {
          "output_type": "display_data",
          "data": {
            "application/vnd.colab-display-data+json": {
              "pip_warning": {
                "packages": [
                  "google"
                ]
              }
            }
          },
          "metadata": {
            "tags": []
          }
        }
      ]
    },
    {
      "cell_type": "code",
      "metadata": {
        "id": "nrjQc43YSpk_",
        "colab_type": "code",
        "outputId": "77aeaa18-fea3-42dc-869f-6ad79016a7a2",
        "colab": {
          "base_uri": "https://localhost:8080/",
          "height": 34
        }
      },
      "source": [
        "\n",
        "from __future__ import absolute_import, division, print_function, unicode_literals\n",
        "import tensorflow as tf\n",
        "print(tf.__version__)"
      ],
      "execution_count": 0,
      "outputs": [
        {
          "output_type": "stream",
          "text": [
            "2.0.0\n"
          ],
          "name": "stdout"
        }
      ]
    },
    {
      "cell_type": "code",
      "metadata": {
        "id": "_XciFPc-e6ve",
        "colab_type": "code",
        "outputId": "2fce533a-beb2-41f7-c568-1e07f3cd513d",
        "colab": {
          "base_uri": "https://localhost:8080/",
          "height": 34
        }
      },
      "source": [
        "%tensorflow_version 2.x\n",
        "\n",
        "from tensorflow.python.keras.utils import Sequence\n",
        "import numpy as np\n",
        "\n",
        "import matplotlib.pyplot as plt\n",
        "\n",
        "from keras.datasets import mnist\n",
        "from random import randrange\n",
        "from keras.utils import to_categorical\n",
        "\n",
        "#Thruple_Background takes a list of pristine backgrounds as input. \n",
        "#And in a \"keras.Sequence\" fashion will give you batches of pristine \n",
        "# background and 3 digits positioned and rotated randomly with degrees \n",
        "#between -30 and 30 degrees. Per pristine background __getitem__ generates \n",
        "#10 different digit combinations. That value can be modified. \n",
        "\n",
        "def make_new_training(x_set, y_set, mnist_train, data_size):\n",
        "  x_len=len(x_set)\n",
        "  batch_size=10\n",
        "  x_train=mnist_train[0]\n",
        "  y_train=mnist_train[1]\n",
        "\n",
        "  x_train_range=len(mnist_train[0])\n",
        "  xdata=list()\n",
        "  y_data=list()\n",
        "  \n",
        "  for i in range(data_size):\n",
        "    rand1=randrange(0, x_train_range)\n",
        "    digit1=x_train[rand1]\n",
        "    result1=y_train[rand1]\n",
        "\n",
        "    rand2=randrange(0, x_train_range)\n",
        "    digit2=x_train[rand2]\n",
        "    result2=y_train[rand2]\n",
        "\n",
        "    rand3=randrange(0, x_train_range)\n",
        "    digit3=x_train[rand3]\n",
        "    result3=y_train[rand3]\n",
        "\n",
        "    angle1=randrange(-30, 30)\n",
        "    angle2=randrange(-30, 30)\n",
        "    angle3=randrange(-30, 30)\n",
        "\n",
        "    thruple=thruple_mnist(digit1, digit2, digit3, angle1=angle1, angle2=angle2, angle3=angle3)\n",
        "\n",
        "    #get a pristine box     \n",
        "    prist_num=randrange(x_len)\n",
        "\n",
        "    prist_box=pristine_box(x_train[prist_num])\n",
        "\n",
        "    new_training_sample=combine_pristine_mnist(prist_box[0], thruple)\n",
        "  \n",
        "    new_training_sample = np.reshape(new_training_sample, (128,128,1)) #adding fake color channel for CNN\n",
        "\n",
        "    xdata.append(new_training_sample / 255.) \n",
        "\n",
        "    y_data.append(max([result1, result2, result3]))   #have to categorize\n",
        "    return (np.array(x_data),np.array(y_data) )"
      ],
      "execution_count": 0,
      "outputs": [
        {
          "output_type": "stream",
          "text": [
            "TensorFlow is already loaded. Please restart the runtime to change versions.\n"
          ],
          "name": "stdout"
        }
      ]
    },
    {
      "cell_type": "code",
      "metadata": {
        "id": "k6c02D6q5N9b",
        "colab_type": "code",
        "outputId": "be70265b-a52e-41e9-cfab-32ad558ae9f1",
        "colab": {
          "base_uri": "https://localhost:8080/",
          "height": 375
        }
      },
      "source": [
        "from keras.datasets import mnist\n",
        "mnist_train, _ =mnist.load_data()\n",
        "\n",
        "(ladite, larite)=make_new_training(x_train[:49000], y_train[:49000], mnist_train, 5)"
      ],
      "execution_count": 0,
      "outputs": [
        {
          "output_type": "stream",
          "text": [
            "[(6, 10, 25, 19)]\n",
            "[((0, 0, 6, 128), (0, 19, 128, 128), (25, 0, 128, 128), (0, 0, 128, 10))]\n"
          ],
          "name": "stdout"
        },
        {
          "output_type": "error",
          "ename": "IndexError",
          "evalue": "ignored",
          "traceback": [
            "\u001b[0;31m---------------------------------------------------------------------------\u001b[0m",
            "\u001b[0;31mIndexError\u001b[0m                                Traceback (most recent call last)",
            "\u001b[0;32m<ipython-input-34-49cc4b903bcb>\u001b[0m in \u001b[0;36m<module>\u001b[0;34m()\u001b[0m\n\u001b[1;32m      2\u001b[0m \u001b[0mmnist_train\u001b[0m\u001b[0;34m,\u001b[0m \u001b[0m_\u001b[0m \u001b[0;34m=\u001b[0m\u001b[0mmnist\u001b[0m\u001b[0;34m.\u001b[0m\u001b[0mload_data\u001b[0m\u001b[0;34m(\u001b[0m\u001b[0;34m)\u001b[0m\u001b[0;34m\u001b[0m\u001b[0;34m\u001b[0m\u001b[0m\n\u001b[1;32m      3\u001b[0m \u001b[0;34m\u001b[0m\u001b[0m\n\u001b[0;32m----> 4\u001b[0;31m \u001b[0;34m(\u001b[0m\u001b[0mladite\u001b[0m\u001b[0;34m,\u001b[0m \u001b[0mlarite\u001b[0m\u001b[0;34m)\u001b[0m\u001b[0;34m=\u001b[0m\u001b[0mmake_new_training\u001b[0m\u001b[0;34m(\u001b[0m\u001b[0mx_train\u001b[0m\u001b[0;34m[\u001b[0m\u001b[0;34m:\u001b[0m\u001b[0;36m49000\u001b[0m\u001b[0;34m]\u001b[0m\u001b[0;34m,\u001b[0m \u001b[0my_train\u001b[0m\u001b[0;34m[\u001b[0m\u001b[0;34m:\u001b[0m\u001b[0;36m49000\u001b[0m\u001b[0;34m]\u001b[0m\u001b[0;34m,\u001b[0m \u001b[0mmnist_train\u001b[0m\u001b[0;34m,\u001b[0m \u001b[0;36m5\u001b[0m\u001b[0;34m)\u001b[0m\u001b[0;34m\u001b[0m\u001b[0;34m\u001b[0m\u001b[0m\n\u001b[0m",
            "\u001b[0;32m<ipython-input-33-782f7b126318>\u001b[0m in \u001b[0;36mmake_new_training\u001b[0;34m(x_set, y_set, mnist_train, data_size)\u001b[0m\n\u001b[1;32m     48\u001b[0m     \u001b[0mprist_num\u001b[0m\u001b[0;34m=\u001b[0m\u001b[0mrandrange\u001b[0m\u001b[0;34m(\u001b[0m\u001b[0mx_len\u001b[0m\u001b[0;34m)\u001b[0m\u001b[0;34m\u001b[0m\u001b[0;34m\u001b[0m\u001b[0m\n\u001b[1;32m     49\u001b[0m \u001b[0;34m\u001b[0m\u001b[0m\n\u001b[0;32m---> 50\u001b[0;31m     \u001b[0mprist_box\u001b[0m\u001b[0;34m=\u001b[0m\u001b[0mpristine_box\u001b[0m\u001b[0;34m(\u001b[0m\u001b[0mx_train\u001b[0m\u001b[0;34m[\u001b[0m\u001b[0mprist_num\u001b[0m\u001b[0;34m]\u001b[0m\u001b[0;34m)\u001b[0m\u001b[0;34m\u001b[0m\u001b[0;34m\u001b[0m\u001b[0m\n\u001b[0m\u001b[1;32m     51\u001b[0m \u001b[0;34m\u001b[0m\u001b[0m\n\u001b[1;32m     52\u001b[0m     \u001b[0mnew_training_sample\u001b[0m\u001b[0;34m=\u001b[0m\u001b[0mcombine_pristine_mnist\u001b[0m\u001b[0;34m(\u001b[0m\u001b[0mprist_box\u001b[0m\u001b[0;34m[\u001b[0m\u001b[0;36m0\u001b[0m\u001b[0;34m]\u001b[0m\u001b[0;34m,\u001b[0m \u001b[0mthruple\u001b[0m\u001b[0;34m)\u001b[0m\u001b[0;34m\u001b[0m\u001b[0;34m\u001b[0m\u001b[0m\n",
            "\u001b[0;32m<ipython-input-30-4b2a62f1c821>\u001b[0m in \u001b[0;36mpristine_box\u001b[0;34m(img)\u001b[0m\n\u001b[1;32m    100\u001b[0m     \u001b[0mbounding_boxes\u001b[0m\u001b[0;34m=\u001b[0m\u001b[0mget_bounding_boxes\u001b[0m\u001b[0;34m(\u001b[0m\u001b[0mimg\u001b[0m\u001b[0;34m)\u001b[0m\u001b[0;34m\u001b[0m\u001b[0;34m\u001b[0m\u001b[0m\n\u001b[1;32m    101\u001b[0m     \u001b[0msubdiv\u001b[0m\u001b[0;34m=\u001b[0m\u001b[0mget_subdiv\u001b[0m\u001b[0;34m(\u001b[0m\u001b[0mbounding_boxes\u001b[0m\u001b[0;34m)\u001b[0m\u001b[0;34m\u001b[0m\u001b[0;34m\u001b[0m\u001b[0m\n\u001b[0;32m--> 102\u001b[0;31m     \u001b[0mlegal_box_dim\u001b[0m\u001b[0;34m=\u001b[0m\u001b[0mget_intersections\u001b[0m\u001b[0;34m(\u001b[0m\u001b[0msubdiv\u001b[0m\u001b[0;34m)\u001b[0m\u001b[0;34m\u001b[0m\u001b[0;34m\u001b[0m\u001b[0m\n\u001b[0m\u001b[1;32m    103\u001b[0m \u001b[0;34m\u001b[0m\u001b[0m\n\u001b[1;32m    104\u001b[0m     \u001b[0mpristine\u001b[0m\u001b[0;34m=\u001b[0m\u001b[0;34m[\u001b[0m\u001b[0mnp\u001b[0m\u001b[0;34m.\u001b[0m\u001b[0marray\u001b[0m\u001b[0;34m(\u001b[0m\u001b[0mresize\u001b[0m\u001b[0;34m(\u001b[0m\u001b[0mimg\u001b[0m\u001b[0;34m[\u001b[0m\u001b[0mbox_dim\u001b[0m\u001b[0;34m[\u001b[0m\u001b[0;36m0\u001b[0m\u001b[0;34m]\u001b[0m\u001b[0;34m:\u001b[0m\u001b[0mbox_dim\u001b[0m\u001b[0;34m[\u001b[0m\u001b[0;36m2\u001b[0m\u001b[0;34m]\u001b[0m\u001b[0;34m,\u001b[0m \u001b[0mbox_dim\u001b[0m\u001b[0;34m[\u001b[0m\u001b[0;36m1\u001b[0m\u001b[0;34m]\u001b[0m\u001b[0;34m:\u001b[0m\u001b[0mbox_dim\u001b[0m\u001b[0;34m[\u001b[0m\u001b[0;36m3\u001b[0m\u001b[0;34m]\u001b[0m\u001b[0;34m]\u001b[0m\u001b[0;34m,\u001b[0m \u001b[0;34m(\u001b[0m\u001b[0;36m128\u001b[0m\u001b[0;34m,\u001b[0m\u001b[0;36m128\u001b[0m\u001b[0;34m)\u001b[0m\u001b[0;34m)\u001b[0m\u001b[0;34m)\u001b[0m \u001b[0;32mfor\u001b[0m \u001b[0mbox_dim\u001b[0m \u001b[0;32min\u001b[0m \u001b[0mlegal_box_dim\u001b[0m\u001b[0;34m]\u001b[0m\u001b[0;34m\u001b[0m\u001b[0;34m\u001b[0m\u001b[0m\n",
            "\u001b[0;32m<ipython-input-30-4b2a62f1c821>\u001b[0m in \u001b[0;36mget_intersections\u001b[0;34m(subdiv, thresh)\u001b[0m\n\u001b[1;32m    142\u001b[0m     \u001b[0mlegal\u001b[0m\u001b[0;34m=\u001b[0m\u001b[0;34m[\u001b[0m\u001b[0;34m]\u001b[0m\u001b[0;34m\u001b[0m\u001b[0;34m\u001b[0m\u001b[0m\n\u001b[1;32m    143\u001b[0m     \u001b[0;32mfor\u001b[0m \u001b[0mx\u001b[0m \u001b[0;32min\u001b[0m \u001b[0msubdiv\u001b[0m\u001b[0;34m[\u001b[0m\u001b[0;36m0\u001b[0m\u001b[0;34m]\u001b[0m\u001b[0;34m:\u001b[0m\u001b[0;34m\u001b[0m\u001b[0;34m\u001b[0m\u001b[0m\n\u001b[0;32m--> 144\u001b[0;31m         \u001b[0;32mfor\u001b[0m \u001b[0my\u001b[0m \u001b[0;32min\u001b[0m \u001b[0msubdiv\u001b[0m\u001b[0;34m[\u001b[0m\u001b[0;36m1\u001b[0m\u001b[0;34m]\u001b[0m\u001b[0;34m:\u001b[0m\u001b[0;34m\u001b[0m\u001b[0;34m\u001b[0m\u001b[0m\n\u001b[0m\u001b[1;32m    145\u001b[0m             \u001b[0;32mfor\u001b[0m \u001b[0mz\u001b[0m \u001b[0;32min\u001b[0m \u001b[0msubdiv\u001b[0m\u001b[0;34m[\u001b[0m\u001b[0;36m2\u001b[0m\u001b[0;34m]\u001b[0m\u001b[0;34m:\u001b[0m\u001b[0;34m\u001b[0m\u001b[0;34m\u001b[0m\u001b[0m\n\u001b[1;32m    146\u001b[0m                 \u001b[0mbox\u001b[0m\u001b[0;34m=\u001b[0m\u001b[0mintersection\u001b[0m\u001b[0;34m(\u001b[0m\u001b[0mx\u001b[0m\u001b[0;34m,\u001b[0m \u001b[0my\u001b[0m\u001b[0;34m,\u001b[0m \u001b[0mz\u001b[0m\u001b[0;34m)\u001b[0m\u001b[0;34m\u001b[0m\u001b[0;34m\u001b[0m\u001b[0m\n",
            "\u001b[0;31mIndexError\u001b[0m: list index out of range"
          ]
        }
      ]
    },
    {
      "cell_type": "code",
      "metadata": {
        "id": "eNr4hnBQLibA",
        "colab_type": "code",
        "outputId": "687e00b9-5dac-4316-c767-e065cd21b260",
        "colab": {
          "base_uri": "https://localhost:8080/",
          "height": 1000
        }
      },
      "source": [
        "%tensorflow_version 2.x\n",
        "\n",
        "\n",
        "#from tensorflow.keras.layers import *\n",
        "#import tensorflow.keras as ks\n",
        "#import numpy as np\n",
        "\n",
        "#from tensorflow.keras.models import Sequential\n",
        "from tensorflow.keras.optimizers import SGD\n",
        "from tensorflow.keras.losses import categorical_crossentropy\n",
        "from tensorflow.keras.applications.vgg19 import VGG19\n",
        "#from tensorflow.keras.activations import relu\n",
        "\n",
        "model=VGG19(include_top=True, weights=None, input_tensor=None, input_shape=(128, 128, 1), pooling=None, classes=10)\n",
        "\n",
        "\n",
        "\n",
        "\n",
        "model.compile(loss='categorical_crossentropy', optimizer=SGD(lr=0.0001, decay=1e-6, momentum=0.9, nesterov=True), metrics=[\"accuracy\"])\n",
        "model.summary()"
      ],
      "execution_count": 0,
      "outputs": [
        {
          "output_type": "stream",
          "text": [
            "TensorFlow is already loaded. Please restart the runtime to change versions.\n",
            "Model: \"vgg19\"\n",
            "_________________________________________________________________\n",
            "Layer (type)                 Output Shape              Param #   \n",
            "=================================================================\n",
            "input_2 (InputLayer)         [(None, 128, 128, 1)]     0         \n",
            "_________________________________________________________________\n",
            "block1_conv1 (Conv2D)        (None, 128, 128, 64)      640       \n",
            "_________________________________________________________________\n",
            "block1_conv2 (Conv2D)        (None, 128, 128, 64)      36928     \n",
            "_________________________________________________________________\n",
            "block1_pool (MaxPooling2D)   (None, 64, 64, 64)        0         \n",
            "_________________________________________________________________\n",
            "block2_conv1 (Conv2D)        (None, 64, 64, 128)       73856     \n",
            "_________________________________________________________________\n",
            "block2_conv2 (Conv2D)        (None, 64, 64, 128)       147584    \n",
            "_________________________________________________________________\n",
            "block2_pool (MaxPooling2D)   (None, 32, 32, 128)       0         \n",
            "_________________________________________________________________\n",
            "block3_conv1 (Conv2D)        (None, 32, 32, 256)       295168    \n",
            "_________________________________________________________________\n",
            "block3_conv2 (Conv2D)        (None, 32, 32, 256)       590080    \n",
            "_________________________________________________________________\n",
            "block3_conv3 (Conv2D)        (None, 32, 32, 256)       590080    \n",
            "_________________________________________________________________\n",
            "block3_conv4 (Conv2D)        (None, 32, 32, 256)       590080    \n",
            "_________________________________________________________________\n",
            "block3_pool (MaxPooling2D)   (None, 16, 16, 256)       0         \n",
            "_________________________________________________________________\n",
            "block4_conv1 (Conv2D)        (None, 16, 16, 512)       1180160   \n",
            "_________________________________________________________________\n",
            "block4_conv2 (Conv2D)        (None, 16, 16, 512)       2359808   \n",
            "_________________________________________________________________\n",
            "block4_conv3 (Conv2D)        (None, 16, 16, 512)       2359808   \n",
            "_________________________________________________________________\n",
            "block4_conv4 (Conv2D)        (None, 16, 16, 512)       2359808   \n",
            "_________________________________________________________________\n",
            "block4_pool (MaxPooling2D)   (None, 8, 8, 512)         0         \n",
            "_________________________________________________________________\n",
            "block5_conv1 (Conv2D)        (None, 8, 8, 512)         2359808   \n",
            "_________________________________________________________________\n",
            "block5_conv2 (Conv2D)        (None, 8, 8, 512)         2359808   \n",
            "_________________________________________________________________\n",
            "block5_conv3 (Conv2D)        (None, 8, 8, 512)         2359808   \n",
            "_________________________________________________________________\n",
            "block5_conv4 (Conv2D)        (None, 8, 8, 512)         2359808   \n",
            "_________________________________________________________________\n",
            "block5_pool (MaxPooling2D)   (None, 4, 4, 512)         0         \n",
            "_________________________________________________________________\n",
            "flatten (Flatten)            (None, 8192)              0         \n",
            "_________________________________________________________________\n",
            "fc1 (Dense)                  (None, 4096)              33558528  \n",
            "_________________________________________________________________\n",
            "fc2 (Dense)                  (None, 4096)              16781312  \n",
            "_________________________________________________________________\n",
            "predictions (Dense)          (None, 10)                40970     \n",
            "=================================================================\n",
            "Total params: 70,404,042\n",
            "Trainable params: 70,404,042\n",
            "Non-trainable params: 0\n",
            "_________________________________________________________________\n"
          ],
          "name": "stdout"
        }
      ]
    },
    {
      "cell_type": "code",
      "metadata": {
        "id": "F4ZSVNU-6CC7",
        "colab_type": "code",
        "colab": {}
      },
      "source": [
        "from tensorflow.keras.callbacks import History\n",
        "from tensorflow.keras.models import Model\n",
        "import pickle\n",
        "import pandas as pd\n",
        "import numpy as np\n",
        "from keras.utils import to_categorical\n",
        "x_train=pickle.load(open(\"data/train_max_x\", \"rb\"))\n",
        "x_train=np.reshape(x_train, (50000, 128, 128, 1))\n",
        "df = pd.read_csv(\"data/train_max_y.csv\")\n",
        "y_train = list(df[\"Label\"])\n",
        "y_train=np.array(y_train)\n",
        "y_train = to_categorical(y_train)\n",
        "\n",
        "#keras.callbacks.ModelCheckpoint(filepath, monitor='val_loss', verbose=0, save_best_only=False, save_weights_only=False, mode='auto', period=1)\n",
        "\n",
        "\n"
      ],
      "execution_count": 0,
      "outputs": []
    },
    {
      "cell_type": "code",
      "metadata": {
        "id": "EcxThfYCLlBN",
        "colab_type": "code",
        "outputId": "a3ef47b8-2c10-4f94-d469-4af90f0ea30f",
        "colab": {
          "base_uri": "https://localhost:8080/",
          "height": 581
        }
      },
      "source": [
        "model.fit(x=x_train[:49000], y=y_train[:49000], batch_size=10, epochs=15, validation_data=(x_train[49000:], y_train[49000:]))\n"
      ],
      "execution_count": 0,
      "outputs": [
        {
          "output_type": "stream",
          "text": [
            "Train on 49000 samples, validate on 1000 samples\n",
            "Epoch 1/15\n",
            "49000/49000 [==============================] - 937s 19ms/sample - loss: 1.8991 - accuracy: 0.2620 - val_loss: 1.9166 - val_accuracy: 0.2710\n",
            "Epoch 2/15\n",
            "49000/49000 [==============================] - 930s 19ms/sample - loss: 1.8863 - accuracy: 0.2673 - val_loss: 1.9068 - val_accuracy: 0.2710\n",
            "Epoch 3/15\n",
            "49000/49000 [==============================] - 930s 19ms/sample - loss: 1.8799 - accuracy: 0.2673 - val_loss: 1.9021 - val_accuracy: 0.2710\n",
            "Epoch 4/15\n",
            "49000/49000 [==============================] - 930s 19ms/sample - loss: 1.8691 - accuracy: 0.2688 - val_loss: 1.8728 - val_accuracy: 0.2710\n",
            "Epoch 5/15\n",
            "49000/49000 [==============================] - 922s 19ms/sample - loss: 1.7622 - accuracy: 0.3171 - val_loss: 1.5845 - val_accuracy: 0.3920\n",
            "Epoch 6/15\n",
            "49000/49000 [==============================] - 918s 19ms/sample - loss: 1.4262 - accuracy: 0.4687 - val_loss: 1.4366 - val_accuracy: 0.4630\n",
            "Epoch 7/15\n",
            "49000/49000 [==============================] - 913s 19ms/sample - loss: 1.1926 - accuracy: 0.5729 - val_loss: 1.1808 - val_accuracy: 0.5670\n",
            "Epoch 8/15\n",
            "49000/49000 [==============================] - 920s 19ms/sample - loss: 0.9878 - accuracy: 0.6495 - val_loss: 0.9136 - val_accuracy: 0.6830\n",
            "Epoch 9/15\n",
            "49000/49000 [==============================] - 909s 19ms/sample - loss: 0.8510 - accuracy: 0.6892 - val_loss: 0.8018 - val_accuracy: 0.7390\n",
            "Epoch 10/15\n",
            "49000/49000 [==============================] - 909s 19ms/sample - loss: 0.6010 - accuracy: 0.7985 - val_loss: 0.5480 - val_accuracy: 0.8270\n",
            "Epoch 11/15\n",
            "49000/49000 [==============================] - 907s 19ms/sample - loss: 0.4587 - accuracy: 0.8456 - val_loss: 0.4522 - val_accuracy: 0.8640\n",
            "Epoch 12/15\n",
            "49000/49000 [==============================] - 925s 19ms/sample - loss: 0.3745 - accuracy: 0.8700 - val_loss: 0.4065 - val_accuracy: 0.8730\n",
            "Epoch 13/15\n",
            "49000/49000 [==============================] - 922s 19ms/sample - loss: 0.3197 - accuracy: 0.8868 - val_loss: 0.3661 - val_accuracy: 0.8830\n",
            "Epoch 14/15\n",
            "49000/49000 [==============================] - 923s 19ms/sample - loss: 0.2790 - accuracy: 0.8996 - val_loss: 0.3888 - val_accuracy: 0.8660\n",
            "Epoch 15/15\n",
            "49000/49000 [==============================] - 912s 19ms/sample - loss: 0.2489 - accuracy: 0.9092 - val_loss: 0.3127 - val_accuracy: 0.8990\n"
          ],
          "name": "stdout"
        },
        {
          "output_type": "execute_result",
          "data": {
            "text/plain": [
              "<tensorflow.python.keras.callbacks.History at 0x7f79e8c62da0>"
            ]
          },
          "metadata": {
            "tags": []
          },
          "execution_count": 8
        }
      ]
    },
    {
      "cell_type": "code",
      "metadata": {
        "id": "llLSvJjnwRR0",
        "colab_type": "code",
        "colab": {}
      },
      "source": [
        "\n",
        "from tensorflow.keras.models import load_model\n",
        "model = load_model('VGG19model3.h5')"
      ],
      "execution_count": 0,
      "outputs": []
    },
    {
      "cell_type": "code",
      "metadata": {
        "id": "SgKqwK696lAg",
        "colab_type": "code",
        "colab": {}
      },
      "source": [
        "import numpy as np\n",
        "\n",
        "x_test=np.reshape(pickle.load(open(\"data/test_max_x\", \"rb\")), (10000, 128, 128, 1))\n",
        "\n",
        "preds=model.predict(x_test)\n",
        "preds=[np.argmax(x) for x in preds]"
      ],
      "execution_count": 0,
      "outputs": []
    },
    {
      "cell_type": "code",
      "metadata": {
        "id": "5HGqMrJb7zsh",
        "colab_type": "code",
        "colab": {}
      },
      "source": [
        "import pandas as pd\n",
        "\n",
        "df = pd.DataFrame(preds, columns=[\"label\"])\n",
        "df.to_csv('list.csv', index=False)\n",
        "\n"
      ],
      "execution_count": 0,
      "outputs": []
    },
    {
      "cell_type": "code",
      "metadata": {
        "id": "8Qcqbj_l43lV",
        "colab_type": "code",
        "colab": {}
      },
      "source": [
        "model.save(\"VGG19model4epoch21.h5\")"
      ],
      "execution_count": 0,
      "outputs": []
    },
    {
      "cell_type": "code",
      "metadata": {
        "id": "oQJplhgCiTt7",
        "colab_type": "code",
        "outputId": "fff385d2-0be6-4630-f4b1-b4ec1b4deeb9",
        "colab": {
          "base_uri": "https://localhost:8080/",
          "height": 105
        }
      },
      "source": [
        "model.fit(x=x_train[:49000], y=y_train[:49000], batch_size=10, epochs=20, validation_data=(x_train[49000:], y_train[49000:]), initial_epoch=19)"
      ],
      "execution_count": 0,
      "outputs": [
        {
          "output_type": "stream",
          "text": [
            "Train on 49000 samples, validate on 1000 samples\n",
            "Epoch 20/20\n",
            "49000/49000 [==============================] - 909s 19ms/sample - loss: 0.0945 - accuracy: 0.9707 - val_loss: 0.2676 - val_accuracy: 0.9340\n"
          ],
          "name": "stdout"
        },
        {
          "output_type": "execute_result",
          "data": {
            "text/plain": [
              "<tensorflow.python.keras.callbacks.History at 0x7f4af4b46438>"
            ]
          },
          "metadata": {
            "tags": []
          },
          "execution_count": 8
        }
      ]
    },
    {
      "cell_type": "code",
      "metadata": {
        "id": "4Qi7cZT7BdNy",
        "colab_type": "code",
        "outputId": "2de7b703-b065-4404-e3c7-80f220697bad",
        "colab": {
          "base_uri": "https://localhost:8080/",
          "height": 105
        }
      },
      "source": [
        "model.fit(x=x_train[:49000], y=y_train[:49000], batch_size=10, epochs=21, validation_data=(x_train[49000:], y_train[49000:]), initial_epoch=20)"
      ],
      "execution_count": 0,
      "outputs": [
        {
          "output_type": "stream",
          "text": [
            "Train on 49000 samples, validate on 1000 samples\n",
            "Epoch 21/21\n",
            "49000/49000 [==============================] - 900s 18ms/sample - loss: 0.0914 - accuracy: 0.9717 - val_loss: 0.2487 - val_accuracy: 0.9280\n"
          ],
          "name": "stdout"
        },
        {
          "output_type": "execute_result",
          "data": {
            "text/plain": [
              "<tensorflow.python.keras.callbacks.History at 0x7f5f5fbbeef0>"
            ]
          },
          "metadata": {
            "tags": []
          },
          "execution_count": 4
        }
      ]
    },
    {
      "cell_type": "code",
      "metadata": {
        "id": "Cy4tqALKLmKW",
        "colab_type": "code",
        "outputId": "7365531b-8b7e-4eca-9e3e-97f89147f65a",
        "colab": {
          "base_uri": "https://localhost:8080/",
          "height": 249
        }
      },
      "source": [
        "\n",
        "from keras.utils import to_categorical\n",
        "\n",
        "new_x_train_final=np.array(new_x_train0+new_x_train1)\n",
        "new_y_train_final=new_y_train0+new_y_train1\n",
        "new_y_train_final=np.reshape(np.array(new_x_train_final), (18052, 128, 128, 1))\n",
        "new_y_train_final = to_categorical(new_y_train_final)"
      ],
      "execution_count": 0,
      "outputs": [
        {
          "output_type": "stream",
          "text": [
            "Using TensorFlow backend.\n"
          ],
          "name": "stderr"
        },
        {
          "output_type": "error",
          "ename": "NameError",
          "evalue": "ignored",
          "traceback": [
            "\u001b[0;31m---------------------------------------------------------------------------\u001b[0m",
            "\u001b[0;31mNameError\u001b[0m                                 Traceback (most recent call last)",
            "\u001b[0;32m<ipython-input-1-5040974533e5>\u001b[0m in \u001b[0;36m<module>\u001b[0;34m()\u001b[0m\n\u001b[1;32m      1\u001b[0m \u001b[0;32mfrom\u001b[0m \u001b[0mkeras\u001b[0m\u001b[0;34m.\u001b[0m\u001b[0mutils\u001b[0m \u001b[0;32mimport\u001b[0m \u001b[0mto_categorical\u001b[0m\u001b[0;34m\u001b[0m\u001b[0;34m\u001b[0m\u001b[0m\n\u001b[1;32m      2\u001b[0m \u001b[0;34m\u001b[0m\u001b[0m\n\u001b[0;32m----> 3\u001b[0;31m \u001b[0mnew_x_train_final\u001b[0m\u001b[0;34m=\u001b[0m\u001b[0mnp\u001b[0m\u001b[0;34m.\u001b[0m\u001b[0marray\u001b[0m\u001b[0;34m(\u001b[0m\u001b[0mnew_x_train0\u001b[0m\u001b[0;34m+\u001b[0m\u001b[0mnew_x_train1\u001b[0m\u001b[0;34m)\u001b[0m\u001b[0;34m\u001b[0m\u001b[0;34m\u001b[0m\u001b[0m\n\u001b[0m\u001b[1;32m      4\u001b[0m \u001b[0mnew_y_train_final\u001b[0m\u001b[0;34m=\u001b[0m\u001b[0mnew_y_train0\u001b[0m\u001b[0;34m+\u001b[0m\u001b[0mnew_y_train1\u001b[0m\u001b[0;34m\u001b[0m\u001b[0;34m\u001b[0m\u001b[0m\n\u001b[1;32m      5\u001b[0m \u001b[0mnew_y_train_final\u001b[0m\u001b[0;34m=\u001b[0m\u001b[0mnp\u001b[0m\u001b[0;34m.\u001b[0m\u001b[0mreshape\u001b[0m\u001b[0;34m(\u001b[0m\u001b[0mnp\u001b[0m\u001b[0;34m.\u001b[0m\u001b[0marray\u001b[0m\u001b[0;34m(\u001b[0m\u001b[0mnew_x_train_final\u001b[0m\u001b[0;34m)\u001b[0m\u001b[0;34m,\u001b[0m \u001b[0;34m(\u001b[0m\u001b[0;36m18052\u001b[0m\u001b[0;34m,\u001b[0m \u001b[0;36m128\u001b[0m\u001b[0;34m,\u001b[0m \u001b[0;36m128\u001b[0m\u001b[0;34m,\u001b[0m \u001b[0;36m1\u001b[0m\u001b[0;34m)\u001b[0m\u001b[0;34m)\u001b[0m\u001b[0;34m\u001b[0m\u001b[0;34m\u001b[0m\u001b[0m\n",
            "\u001b[0;31mNameError\u001b[0m: name 'np' is not defined"
          ]
        }
      ]
    },
    {
      "cell_type": "code",
      "metadata": {
        "id": "4QRoeGlR1geD",
        "colab_type": "code",
        "outputId": "ba64be5d-139c-4107-970f-a064d1d5466a",
        "colab": {
          "base_uri": "https://localhost:8080/",
          "height": 327
        }
      },
      "source": [
        "model.fit(x=new_x_train_final, y=new_y_train_final, batch_size=10, epochs=23, validation_data=(x_train[49000:], y_train[49000:]), initial_epoch=20)"
      ],
      "execution_count": 0,
      "outputs": [
        {
          "output_type": "error",
          "ename": "ValueError",
          "evalue": "ignored",
          "traceback": [
            "\u001b[0;31m---------------------------------------------------------------------------\u001b[0m",
            "\u001b[0;31mValueError\u001b[0m                                Traceback (most recent call last)",
            "\u001b[0;32m<ipython-input-27-d56d9562823d>\u001b[0m in \u001b[0;36m<module>\u001b[0;34m()\u001b[0m\n\u001b[0;32m----> 1\u001b[0;31m \u001b[0mmodel\u001b[0m\u001b[0;34m.\u001b[0m\u001b[0mfit\u001b[0m\u001b[0;34m(\u001b[0m\u001b[0mx\u001b[0m\u001b[0;34m=\u001b[0m\u001b[0mnew_x_train_final\u001b[0m\u001b[0;34m,\u001b[0m \u001b[0my\u001b[0m\u001b[0;34m=\u001b[0m\u001b[0mnew_y_train_final\u001b[0m\u001b[0;34m,\u001b[0m \u001b[0mbatch_size\u001b[0m\u001b[0;34m=\u001b[0m\u001b[0;36m10\u001b[0m\u001b[0;34m,\u001b[0m \u001b[0mepochs\u001b[0m\u001b[0;34m=\u001b[0m\u001b[0;36m23\u001b[0m\u001b[0;34m,\u001b[0m \u001b[0mvalidation_data\u001b[0m\u001b[0;34m=\u001b[0m\u001b[0;34m(\u001b[0m\u001b[0mx_train\u001b[0m\u001b[0;34m[\u001b[0m\u001b[0;36m49000\u001b[0m\u001b[0;34m:\u001b[0m\u001b[0;34m]\u001b[0m\u001b[0;34m,\u001b[0m \u001b[0my_train\u001b[0m\u001b[0;34m[\u001b[0m\u001b[0;36m49000\u001b[0m\u001b[0;34m:\u001b[0m\u001b[0;34m]\u001b[0m\u001b[0;34m)\u001b[0m\u001b[0;34m,\u001b[0m \u001b[0minitial_epoch\u001b[0m\u001b[0;34m=\u001b[0m\u001b[0;36m20\u001b[0m\u001b[0;34m)\u001b[0m\u001b[0;34m\u001b[0m\u001b[0;34m\u001b[0m\u001b[0m\n\u001b[0m",
            "\u001b[0;32m/usr/local/lib/python3.6/dist-packages/tensorflow_core/python/keras/engine/training.py\u001b[0m in \u001b[0;36mfit\u001b[0;34m(self, x, y, batch_size, epochs, verbose, callbacks, validation_split, validation_data, shuffle, class_weight, sample_weight, initial_epoch, steps_per_epoch, validation_steps, validation_freq, max_queue_size, workers, use_multiprocessing, **kwargs)\u001b[0m\n\u001b[1;32m    726\u001b[0m         \u001b[0mmax_queue_size\u001b[0m\u001b[0;34m=\u001b[0m\u001b[0mmax_queue_size\u001b[0m\u001b[0;34m,\u001b[0m\u001b[0;34m\u001b[0m\u001b[0;34m\u001b[0m\u001b[0m\n\u001b[1;32m    727\u001b[0m         \u001b[0mworkers\u001b[0m\u001b[0;34m=\u001b[0m\u001b[0mworkers\u001b[0m\u001b[0;34m,\u001b[0m\u001b[0;34m\u001b[0m\u001b[0;34m\u001b[0m\u001b[0m\n\u001b[0;32m--> 728\u001b[0;31m         use_multiprocessing=use_multiprocessing)\n\u001b[0m\u001b[1;32m    729\u001b[0m \u001b[0;34m\u001b[0m\u001b[0m\n\u001b[1;32m    730\u001b[0m   def evaluate(self,\n",
            "\u001b[0;32m/usr/local/lib/python3.6/dist-packages/tensorflow_core/python/keras/engine/training_v2.py\u001b[0m in \u001b[0;36mfit\u001b[0;34m(self, model, x, y, batch_size, epochs, verbose, callbacks, validation_split, validation_data, shuffle, class_weight, sample_weight, initial_epoch, steps_per_epoch, validation_steps, validation_freq, **kwargs)\u001b[0m\n\u001b[1;32m    222\u001b[0m           \u001b[0mvalidation_data\u001b[0m\u001b[0;34m=\u001b[0m\u001b[0mvalidation_data\u001b[0m\u001b[0;34m,\u001b[0m\u001b[0;34m\u001b[0m\u001b[0;34m\u001b[0m\u001b[0m\n\u001b[1;32m    223\u001b[0m           \u001b[0mvalidation_steps\u001b[0m\u001b[0;34m=\u001b[0m\u001b[0mvalidation_steps\u001b[0m\u001b[0;34m,\u001b[0m\u001b[0;34m\u001b[0m\u001b[0;34m\u001b[0m\u001b[0m\n\u001b[0;32m--> 224\u001b[0;31m           distribution_strategy=strategy)\n\u001b[0m\u001b[1;32m    225\u001b[0m \u001b[0;34m\u001b[0m\u001b[0m\n\u001b[1;32m    226\u001b[0m       \u001b[0mtotal_samples\u001b[0m \u001b[0;34m=\u001b[0m \u001b[0m_get_total_number_of_samples\u001b[0m\u001b[0;34m(\u001b[0m\u001b[0mtraining_data_adapter\u001b[0m\u001b[0;34m)\u001b[0m\u001b[0;34m\u001b[0m\u001b[0;34m\u001b[0m\u001b[0m\n",
            "\u001b[0;32m/usr/local/lib/python3.6/dist-packages/tensorflow_core/python/keras/engine/training_v2.py\u001b[0m in \u001b[0;36m_process_training_inputs\u001b[0;34m(model, x, y, batch_size, epochs, sample_weights, class_weights, steps_per_epoch, validation_split, validation_data, validation_steps, shuffle, distribution_strategy, max_queue_size, workers, use_multiprocessing)\u001b[0m\n\u001b[1;32m    545\u001b[0m         \u001b[0mmax_queue_size\u001b[0m\u001b[0;34m=\u001b[0m\u001b[0mmax_queue_size\u001b[0m\u001b[0;34m,\u001b[0m\u001b[0;34m\u001b[0m\u001b[0;34m\u001b[0m\u001b[0m\n\u001b[1;32m    546\u001b[0m         \u001b[0mworkers\u001b[0m\u001b[0;34m=\u001b[0m\u001b[0mworkers\u001b[0m\u001b[0;34m,\u001b[0m\u001b[0;34m\u001b[0m\u001b[0;34m\u001b[0m\u001b[0m\n\u001b[0;32m--> 547\u001b[0;31m         use_multiprocessing=use_multiprocessing)\n\u001b[0m\u001b[1;32m    548\u001b[0m     \u001b[0mval_adapter\u001b[0m \u001b[0;34m=\u001b[0m \u001b[0;32mNone\u001b[0m\u001b[0;34m\u001b[0m\u001b[0;34m\u001b[0m\u001b[0m\n\u001b[1;32m    549\u001b[0m     \u001b[0;32mif\u001b[0m \u001b[0mvalidation_data\u001b[0m\u001b[0;34m:\u001b[0m\u001b[0;34m\u001b[0m\u001b[0;34m\u001b[0m\u001b[0m\n",
            "\u001b[0;32m/usr/local/lib/python3.6/dist-packages/tensorflow_core/python/keras/engine/training_v2.py\u001b[0m in \u001b[0;36m_process_inputs\u001b[0;34m(model, x, y, batch_size, epochs, sample_weights, class_weights, shuffle, steps, distribution_strategy, max_queue_size, workers, use_multiprocessing)\u001b[0m\n\u001b[1;32m    592\u001b[0m         \u001b[0mbatch_size\u001b[0m\u001b[0;34m=\u001b[0m\u001b[0mbatch_size\u001b[0m\u001b[0;34m,\u001b[0m\u001b[0;34m\u001b[0m\u001b[0;34m\u001b[0m\u001b[0m\n\u001b[1;32m    593\u001b[0m         \u001b[0mcheck_steps\u001b[0m\u001b[0;34m=\u001b[0m\u001b[0;32mFalse\u001b[0m\u001b[0;34m,\u001b[0m\u001b[0;34m\u001b[0m\u001b[0;34m\u001b[0m\u001b[0m\n\u001b[0;32m--> 594\u001b[0;31m         steps=steps)\n\u001b[0m\u001b[1;32m    595\u001b[0m   adapter = adapter_cls(\n\u001b[1;32m    596\u001b[0m       \u001b[0mx\u001b[0m\u001b[0;34m,\u001b[0m\u001b[0;34m\u001b[0m\u001b[0;34m\u001b[0m\u001b[0m\n",
            "\u001b[0;32m/usr/local/lib/python3.6/dist-packages/tensorflow_core/python/keras/engine/training.py\u001b[0m in \u001b[0;36m_standardize_user_data\u001b[0;34m(self, x, y, sample_weight, class_weight, batch_size, check_steps, steps_name, steps, validation_split, shuffle, extract_tensors_from_dataset)\u001b[0m\n\u001b[1;32m   2470\u001b[0m           \u001b[0mfeed_input_shapes\u001b[0m\u001b[0;34m,\u001b[0m\u001b[0;34m\u001b[0m\u001b[0;34m\u001b[0m\u001b[0m\n\u001b[1;32m   2471\u001b[0m           \u001b[0mcheck_batch_axis\u001b[0m\u001b[0;34m=\u001b[0m\u001b[0;32mFalse\u001b[0m\u001b[0;34m,\u001b[0m  \u001b[0;31m# Don't enforce the batch size.\u001b[0m\u001b[0;34m\u001b[0m\u001b[0;34m\u001b[0m\u001b[0m\n\u001b[0;32m-> 2472\u001b[0;31m           exception_prefix='input')\n\u001b[0m\u001b[1;32m   2473\u001b[0m \u001b[0;34m\u001b[0m\u001b[0m\n\u001b[1;32m   2474\u001b[0m     \u001b[0;31m# Get typespecs for the input data and sanitize it if necessary.\u001b[0m\u001b[0;34m\u001b[0m\u001b[0;34m\u001b[0m\u001b[0;34m\u001b[0m\u001b[0m\n",
            "\u001b[0;32m/usr/local/lib/python3.6/dist-packages/tensorflow_core/python/keras/engine/training_utils.py\u001b[0m in \u001b[0;36mstandardize_input_data\u001b[0;34m(data, names, shapes, check_batch_axis, exception_prefix)\u001b[0m\n\u001b[1;32m    563\u001b[0m                            \u001b[0;34m': expected '\u001b[0m \u001b[0;34m+\u001b[0m \u001b[0mnames\u001b[0m\u001b[0;34m[\u001b[0m\u001b[0mi\u001b[0m\u001b[0;34m]\u001b[0m \u001b[0;34m+\u001b[0m \u001b[0;34m' to have '\u001b[0m \u001b[0;34m+\u001b[0m\u001b[0;34m\u001b[0m\u001b[0;34m\u001b[0m\u001b[0m\n\u001b[1;32m    564\u001b[0m                            \u001b[0mstr\u001b[0m\u001b[0;34m(\u001b[0m\u001b[0mlen\u001b[0m\u001b[0;34m(\u001b[0m\u001b[0mshape\u001b[0m\u001b[0;34m)\u001b[0m\u001b[0;34m)\u001b[0m \u001b[0;34m+\u001b[0m \u001b[0;34m' dimensions, but got array '\u001b[0m\u001b[0;34m\u001b[0m\u001b[0;34m\u001b[0m\u001b[0m\n\u001b[0;32m--> 565\u001b[0;31m                            'with shape ' + str(data_shape))\n\u001b[0m\u001b[1;32m    566\u001b[0m         \u001b[0;32mif\u001b[0m \u001b[0;32mnot\u001b[0m \u001b[0mcheck_batch_axis\u001b[0m\u001b[0;34m:\u001b[0m\u001b[0;34m\u001b[0m\u001b[0;34m\u001b[0m\u001b[0m\n\u001b[1;32m    567\u001b[0m           \u001b[0mdata_shape\u001b[0m \u001b[0;34m=\u001b[0m \u001b[0mdata_shape\u001b[0m\u001b[0;34m[\u001b[0m\u001b[0;36m1\u001b[0m\u001b[0;34m:\u001b[0m\u001b[0;34m]\u001b[0m\u001b[0;34m\u001b[0m\u001b[0;34m\u001b[0m\u001b[0m\n",
            "\u001b[0;31mValueError\u001b[0m: Error when checking input: expected input_2 to have 4 dimensions, but got array with shape (18073, 128, 128)"
          ]
        }
      ]
    },
    {
      "cell_type": "code",
      "metadata": {
        "id": "bCBZxy09SWrl",
        "colab_type": "code",
        "colab": {}
      },
      "source": [
        "preds=model.predict(np.reshape(x_train[49000:], (1000, 128,128,1)))"
      ],
      "execution_count": 0,
      "outputs": []
    },
    {
      "cell_type": "code",
      "metadata": {
        "id": "pbGY1cKExb9H",
        "colab_type": "code",
        "outputId": "c51100f5-dd50-4df1-e81d-fc3bb38201b8",
        "colab": {
          "base_uri": "https://localhost:8080/",
          "height": 34
        }
      },
      "source": [
        "np.argmax(y_train[2])"
      ],
      "execution_count": 0,
      "outputs": [
        {
          "output_type": "execute_result",
          "data": {
            "text/plain": [
              "2"
            ]
          },
          "metadata": {
            "tags": []
          },
          "execution_count": 20
        }
      ]
    },
    {
      "cell_type": "code",
      "metadata": {
        "id": "r2jBS4kPlcSF",
        "colab_type": "code",
        "outputId": "e6a64d3b-a97d-4ade-e2d9-82c89ea31811",
        "colab": {
          "base_uri": "https://localhost:8080/",
          "height": 34
        }
      },
      "source": [
        "count=0\n",
        "for i in range(len(preds)):\n",
        "  if np.argmax(preds[i])==np.argmax(y_train[i]):\n",
        "    count+=1\n",
        "print(count/len(preds))"
      ],
      "execution_count": 0,
      "outputs": [
        {
          "output_type": "stream",
          "text": [
            "0.188\n"
          ],
          "name": "stdout"
        }
      ]
    },
    {
      "cell_type": "code",
      "metadata": {
        "id": "SA9SObmISj2q",
        "colab_type": "code",
        "outputId": "e3e79622-1e02-4cf7-a46b-534810e859b8",
        "colab": {
          "base_uri": "https://localhost:8080/",
          "height": 68
        }
      },
      "source": [
        "preds[2]"
      ],
      "execution_count": 0,
      "outputs": [
        {
          "output_type": "execute_result",
          "data": {
            "text/plain": [
              "array([4.7040125e-03, 4.7959760e-02, 1.5949409e-01, 2.4970497e-01,\n",
              "       5.2116394e-01, 8.3295023e-03, 5.1118969e-04, 5.4886574e-03,\n",
              "       1.1174501e-03, 1.5263808e-03], dtype=float32)"
            ]
          },
          "metadata": {
            "tags": []
          },
          "execution_count": 15
        }
      ]
    },
    {
      "cell_type": "code",
      "metadata": {
        "id": "6drN_FeMmr3t",
        "colab_type": "code",
        "colab": {}
      },
      "source": [
        "import numpy as np\n",
        "from skimage.measure import label, regionprops\n",
        "from skimage.transform import *\n",
        "\n",
        "digit_threshold = np.vectorize(lambda x: 255 if x > 220 else 0)\n",
        "def digit_extractor(source, top_clusters=3):\n",
        "    source = np.reshape(source, (128,128))\n",
        "\n",
        "    threshold_img = digit_threshold(source)\n",
        "    declustered_img = remove_clusters_below_size(threshold_img, size=5)\n",
        "    dilated_img = dilation(declustered_img)\n",
        "    labelled_img = label(dilated_img, connectivity = 2)\n",
        "\n",
        "    nb_clusters = np.max(labelled_img)\n",
        "\n",
        "    cluster_list = []\n",
        "    for i in range(1, nb_clusters + 1): #ignoring background\n",
        "        cluster_size = np.sum(labelled_img == i)\n",
        "        cluster_list.append((cluster_size, i))  # append tuple\n",
        "\n",
        "    cluster_list.sort(reverse=True)\n",
        "\n",
        "    cluster_imgs = []\n",
        "    for _, cluster in cluster_list[:top_clusters + 1]: #assuming that the background cluster is the largest\n",
        "\n",
        "        mask = labelled_img == cluster\n",
        "        unmasked = unmask(source, mask)\n",
        "        cropped_digit = crop(unmasked, mask)\n",
        "        padded_digit = center_by_bounding_box(cropped_digit)\n",
        "\n",
        "        cluster_imgs.append(padded_digit)\n",
        "\n",
        "    return cluster_imgs\n",
        "\n",
        "def unmask(source, mask):\n",
        "    return source * mask\n",
        "\n",
        "def crop(source, mask):\n",
        "    width = source.shape[0]\n",
        "    height = source.shape[1]\n",
        "\n",
        "    h_presence = np.sum(mask, axis=0)\n",
        "    v_presence = np.sum(mask, axis=1)\n",
        "\n",
        "    h_min = min([i for i in range(width) if h_presence[i]])\n",
        "    h_max = max([i for i in range(width) if h_presence[i]])\n",
        "\n",
        "    v_min = min([i for i in range(height) if v_presence[i]])\n",
        "    v_max = max([i for i in range(height) if v_presence[i]])\n",
        "\n",
        "    return source[v_min:v_max, h_min:h_max]\n",
        "\n",
        "\n",
        "def center_by_bounding_box(source, box_size=28):\n",
        "    height = source.shape[0]\n",
        "    width = source.shape[1]\n",
        "\n",
        "    cropped_source = source\n",
        "\n",
        "    if height > box_size:\n",
        "        excedent = int((height - box_size)/2)\n",
        "        cropped_source = cropped_source[excedent:excedent+box_size, : ]\n",
        "\n",
        "        height = box_size\n",
        "\n",
        "    if width > box_size:\n",
        "        excedent = int((width - box_size) / 2)\n",
        "        cropped_source = cropped_source[ : , excedent:excedent + box_size]\n",
        "\n",
        "        width = box_size\n",
        "\n",
        "    canvas = np.zeros((box_size, box_size))  # zero array of size box_size\n",
        "\n",
        "    height_pad = int((box_size - height) / 2)\n",
        "    width_pad = int((box_size - width) / 2)\n",
        "\n",
        "    canvas[height_pad:height_pad + height, width_pad:width_pad + width] = cropped_source\n",
        "\n",
        "    return canvas\n",
        "\n",
        "\n",
        "def remove_clusters_below_size(img, size=5):\n",
        "    labelled_img, nb_clusters = label(img, connectivity=2, return_num=True)\n",
        "    cluster_ids_to_eliminate = [0]  # 0 is the background cluster\n",
        "\n",
        "    for i in range(1, nb_clusters):\n",
        "        cluster_size = np.sum(labelled_img == i)\n",
        "\n",
        "        if size is not None and cluster_size <= size:\n",
        "            cluster_ids_to_eliminate.append(i)\n",
        "\n",
        "    elimination_map = lambda x: 0 if x in cluster_ids_to_eliminate else 255\n",
        "    vem = np.vectorize(elimination_map)\n",
        "    declustered_img = vem(labelled_img)\n",
        "    return declustered_img\n",
        "\n",
        "def threshold(source, threshold=220):\n",
        "    f = lambda x : 255 if x >= threshold else 0\n",
        "    vf = np.vectorize(f)\n",
        "\n",
        "    return vf(source)\n",
        "\n",
        "#new methods to get a pristine 28x28 box on which to add a digit. Use data_creator.py\n",
        "\n",
        "def pristine_box(img):#can produce waaaay more\n",
        "\n",
        "    bounding_boxes=get_bounding_boxes(img)\n",
        "    if bounding_boxes==None:\n",
        "      return None\n",
        "    subdiv=get_subdiv(bounding_boxes)\n",
        "    legal_box_dim=get_best_intersections(subdiv)\n",
        "    if legal_box_dim==None:\n",
        "      return None\n",
        "\n",
        "    pristine=[np.array(resize(img[box_dim[0]:box_dim[2], box_dim[1]:box_dim[3]], (128,128))) for box_dim in legal_box_dim]\n",
        "\n",
        "    return pristine\n",
        "\n",
        "def get_bounding_boxes(img):\n",
        "\n",
        "    threshold_img=threshold(img)\n",
        "    labelled_temp, nb_clusters = label(threshold_img, connectivity=2, return_num=True) #could avoid recalling this\n",
        "    props=regionprops(labelled_temp)\n",
        "    bounding_boxes=[x.bbox for x in props]\n",
        "    if len(bounding_boxes)!=3:\n",
        "      return None\n",
        "    return bounding_boxes\n",
        "\n",
        "def get_subdiv(bounding_boxes):\n",
        "    subdiv=[]\n",
        "    size=128\n",
        "    for x in bounding_boxes:\n",
        "        top=(0, 0, x[0], size)\n",
        "        right=(0, x[3], size, size)\n",
        "        bot=(x[2], 0, size, size)\n",
        "        left=(0, 0, size, x[1])\n",
        "        subdiv.append((top, right, bot, left))\n",
        "    \n",
        "    return subdiv\n",
        "\n",
        "\n",
        "def get_intersections(subdiv, thresh=28*28): #assuming we have 3 clusters\n",
        "    legal=[]\n",
        "    for x in subdiv[0]:\n",
        "        for y in subdiv[1]:\n",
        "            for z in subdiv[2]:\n",
        "                box=intersection(x, y, z)\n",
        "                size=(box[2]-box[0])*(box[3]-box[1])\n",
        "                if size>thresh:\n",
        "                    legal.append(box)\n",
        "    return legal\n",
        "\n",
        "def get_best_intersections(subdiv):\n",
        "    legal=[]\n",
        "    min_box=(0, 0, 0, 0)\n",
        "    min_size=1000000000000000000000000000000\n",
        "\n",
        "    for x in subdiv[0]:\n",
        "      for y in subdiv[1]:\n",
        "        for z in subdiv[2]:\n",
        "          box=intersection(x, y, z)\n",
        "          size=(box[2]-box[0])*(box[3]-box[1])\n",
        "          if size<min_size:\n",
        "            min_box=box\n",
        "    legal+=[box]\n",
        "\n",
        "    if min_size==0 or min_box==(0, 0, 0, 0):\n",
        "      return None\n",
        "\n",
        "    return legal\n",
        "\n",
        "\n",
        "\n",
        "def intersection(x, y, z):\n",
        "    (minrow, mincol, maxrow, maxcol)=(max(x[0], y[0], z[0]), max(x[1], y[1], z[1]), min(x[2], y[2], z[2]), min(x[3], y[3], z[3]))\n",
        "    if minrow>=maxrow or mincol>=maxcol:\n",
        "        return (0, 0, 0, 0)\n",
        "    else:\n",
        "        return (minrow, mincol, maxrow, maxcol)\n",
        "\n",
        "\n",
        "\n",
        "def reshape_pristine(pristine):\n",
        "    (width, height)=pristine.shape\n",
        "\n",
        "    if width<28 or height<28:\n",
        "        print(\"kawaboonga\")\n",
        "        return None\n",
        "    else:\n",
        "        w_cush=int((width-28)/2)\n",
        "        h_cush=int((height-28)/2)\n",
        "        w2=w_cush+28\n",
        "        h2=h_cush+28\n",
        "        return pristine[w_cush:w2, h_cush:h2]\n",
        "\n",
        "threshold2 = np.vectorize(lambda x: x if x < 255 else 255)\n",
        "\n",
        "def combine_pristine_mnist(pristine, mnist):\n",
        "    return threshold2(pristine + mnist)\n",
        "\n",
        "def thruple_mnist(digit1, digit2, digit3, angle1=0, angle2=0, angle3=0):\n",
        "    img=np.zeros((128, 128))\n",
        "    \n",
        "    #digit1=resize(digit1, (28, 28))\n",
        "    #digit2=resize(digit2, (28, 28))\n",
        "    #digit3=resize(digit3, (28, 28))\n",
        "    \n",
        "    x_1=randrange(0, 100)\n",
        "    y_1=randrange(0, 100)\n",
        "\n",
        "    x_2=randrange(0, 100)\n",
        "    y_2=randrange(0, 100)\n",
        "    \n",
        "    while (x_2<x_1+28 and x_2>=x_1-28) and (y_2<y_1+28 and y_2>=y_1-28):\n",
        "        x_2=randrange(0, 100)\n",
        "        y_2=randrange(0, 100)\n",
        "\n",
        "    x_3=randrange(0, 100)\n",
        "    y_3=randrange(0, 100)\n",
        "\n",
        "    while ((x_3<x_1+28 and x_3>=x_1-28) and (y_3<y_1+28 and y_3>=y_1-28) or (x_3<x_2+28 and x_3>=x_2-28) and (y_3<y_2+28 and y_3>=y_2-28)):\n",
        "        x_3=randrange(0, 100)\n",
        "        y_3=randrange(0, 100)\n",
        "\n",
        "    img[x_1:x_1+28, y_1:y_1+28]=rotate(digit1, angle1, preserve_range=True)\n",
        "    img[x_2:x_2+28, y_2:y_2+28]=rotate(digit2, angle2, preserve_range=True)\n",
        "    img[x_3:x_3+28, y_3:y_3+28]=rotate(digit3, angle3, preserve_range=True)\n",
        "\n",
        "    return img"
      ],
      "execution_count": 0,
      "outputs": []
    },
    {
      "cell_type": "code",
      "metadata": {
        "id": "JF-0RF9LVei8",
        "colab_type": "code",
        "outputId": "2255c4df-c064-4a91-bfb5-efcda7a9079c",
        "colab": {
          "base_uri": "https://localhost:8080/",
          "height": 34
        }
      },
      "source": [
        "from tensorflow.keras.callbacks import History\n",
        "from tensorflow.keras.models import Model\n",
        "import pickle\n",
        "import pandas as pd\n",
        "import numpy as np\n",
        "from keras.utils import to_categorical\n",
        "from keras.datasets import mnist\n",
        "\n",
        "(x_mnist, y_mnist), _=mnist.load_data()\n",
        "\n",
        "x_train=pickle.load(open(\"data/train_max_x\", \"rb\"))\n",
        "y_train=pd.read_csv(\"data/train_max_y.csv\")\n",
        "\n",
        "\n",
        "def generate_data(x_train_max, y_train_max, x_mnist, y_mnist, size):\n",
        "\n",
        "  len_train_max=len(x_train_max)\n",
        "  len_mnist=len(x_mnist)\n",
        "\n",
        "  x_data=[]\n",
        "  y_data=[]\n",
        "  for i in range(size):\n",
        "    if i%4000==0:\n",
        "      print(i)\n",
        "    \n",
        "    rand1=randrange(len_mnist)\n",
        "    digit1=x_mnist[rand1]\n",
        "    result1=y_mnist[rand1]\n",
        "\n",
        "    rand2=randrange(len_mnist)\n",
        "    digit2=x_mnist[rand2]\n",
        "    result2=y_mnist[rand2]\n",
        "\n",
        "    rand3=randrange(len_mnist)\n",
        "    digit3=x_mnist[rand3]\n",
        "    result3=y_mnist[rand3]\n",
        "\n",
        "\n",
        "    angle1=randrange(-30, 30)\n",
        "    angle2=randrange(-30, 30)\n",
        "    angle3=randrange(-30, 30)\n",
        "\n",
        "    thruple=thruple_mnist(digit1, digit2, digit3, angle1=angle1, angle2=angle2, angle3=angle3)\n",
        "\n",
        "    rand_train_max=randrange(len_train_max)\n",
        "    \n",
        "\n",
        "    x=x_train_max[rand_train_max]\n",
        "\n",
        "    pristine=pristine_box(x)\n",
        "\n",
        "    if pristine!=None:\n",
        "      rand_last=randrange(len(pristine))\n",
        "      new=combine_pristine_mnist(pristine[rand_last], thruple)\n",
        "      x_data+=[new]\n",
        "      y_data+=[np.max([result1, result2, result3])]\n",
        "\n",
        "  return (x_data, y_data)\n",
        "\n",
        "\n"
      ],
      "execution_count": 0,
      "outputs": [
        {
          "output_type": "stream",
          "text": [
            "Using TensorFlow backend.\n"
          ],
          "name": "stderr"
        }
      ]
    },
    {
      "cell_type": "code",
      "metadata": {
        "id": "EOuacwDaVg1Q",
        "colab_type": "code",
        "outputId": "5113d01b-398e-4d16-a1f3-95b5acb85f81",
        "colab": {
          "base_uri": "https://localhost:8080/",
          "height": 375
        }
      },
      "source": [
        "from random import randrange\n",
        "new_x_train1, new_y_train1=generate_data(x_train, y_train, x_mnist, y_mnist, 20000)"
      ],
      "execution_count": 0,
      "outputs": [
        {
          "output_type": "stream",
          "text": [
            "0\n"
          ],
          "name": "stdout"
        },
        {
          "output_type": "error",
          "ename": "KeyboardInterrupt",
          "evalue": "ignored",
          "traceback": [
            "\u001b[0;31m---------------------------------------------------------------------------\u001b[0m",
            "\u001b[0;31mKeyboardInterrupt\u001b[0m                         Traceback (most recent call last)",
            "\u001b[0;32m<ipython-input-4-fbdfcc289e41>\u001b[0m in \u001b[0;36m<module>\u001b[0;34m()\u001b[0m\n\u001b[1;32m      1\u001b[0m \u001b[0;32mfrom\u001b[0m \u001b[0mrandom\u001b[0m \u001b[0;32mimport\u001b[0m \u001b[0mrandrange\u001b[0m\u001b[0;34m\u001b[0m\u001b[0;34m\u001b[0m\u001b[0m\n\u001b[0;32m----> 2\u001b[0;31m \u001b[0mnew_x_train1\u001b[0m\u001b[0;34m,\u001b[0m \u001b[0mnew_y_train1\u001b[0m\u001b[0;34m=\u001b[0m\u001b[0mgenerate_data\u001b[0m\u001b[0;34m(\u001b[0m\u001b[0mx_train\u001b[0m\u001b[0;34m,\u001b[0m \u001b[0my_train\u001b[0m\u001b[0;34m,\u001b[0m \u001b[0mx_mnist\u001b[0m\u001b[0;34m,\u001b[0m \u001b[0my_mnist\u001b[0m\u001b[0;34m,\u001b[0m \u001b[0;36m20000\u001b[0m\u001b[0;34m)\u001b[0m\u001b[0;34m\u001b[0m\u001b[0;34m\u001b[0m\u001b[0m\n\u001b[0m",
            "\u001b[0;32m<ipython-input-3-59284baaf5b2>\u001b[0m in \u001b[0;36mgenerate_data\u001b[0;34m(x_train_max, y_train_max, x_mnist, y_mnist, size)\u001b[0m\n\u001b[1;32m     48\u001b[0m     \u001b[0mx\u001b[0m\u001b[0;34m=\u001b[0m\u001b[0mx_train_max\u001b[0m\u001b[0;34m[\u001b[0m\u001b[0mrand_train_max\u001b[0m\u001b[0;34m]\u001b[0m\u001b[0;34m\u001b[0m\u001b[0;34m\u001b[0m\u001b[0m\n\u001b[1;32m     49\u001b[0m \u001b[0;34m\u001b[0m\u001b[0m\n\u001b[0;32m---> 50\u001b[0;31m     \u001b[0mpristine\u001b[0m\u001b[0;34m=\u001b[0m\u001b[0mpristine_box\u001b[0m\u001b[0;34m(\u001b[0m\u001b[0mx\u001b[0m\u001b[0;34m)\u001b[0m\u001b[0;34m\u001b[0m\u001b[0;34m\u001b[0m\u001b[0m\n\u001b[0m\u001b[1;32m     51\u001b[0m \u001b[0;34m\u001b[0m\u001b[0m\n\u001b[1;32m     52\u001b[0m     \u001b[0;32mif\u001b[0m \u001b[0mpristine\u001b[0m\u001b[0;34m!=\u001b[0m\u001b[0;32mNone\u001b[0m\u001b[0;34m:\u001b[0m\u001b[0;34m\u001b[0m\u001b[0;34m\u001b[0m\u001b[0m\n",
            "\u001b[0;32m<ipython-input-2-f80651a96d19>\u001b[0m in \u001b[0;36mpristine_box\u001b[0;34m(img)\u001b[0m\n\u001b[1;32m    113\u001b[0m       \u001b[0;32mreturn\u001b[0m \u001b[0;32mNone\u001b[0m\u001b[0;34m\u001b[0m\u001b[0;34m\u001b[0m\u001b[0m\n\u001b[1;32m    114\u001b[0m \u001b[0;34m\u001b[0m\u001b[0m\n\u001b[0;32m--> 115\u001b[0;31m     \u001b[0mpristine\u001b[0m\u001b[0;34m=\u001b[0m\u001b[0;34m[\u001b[0m\u001b[0mnp\u001b[0m\u001b[0;34m.\u001b[0m\u001b[0marray\u001b[0m\u001b[0;34m(\u001b[0m\u001b[0mresize\u001b[0m\u001b[0;34m(\u001b[0m\u001b[0mimg\u001b[0m\u001b[0;34m[\u001b[0m\u001b[0mbox_dim\u001b[0m\u001b[0;34m[\u001b[0m\u001b[0;36m0\u001b[0m\u001b[0;34m]\u001b[0m\u001b[0;34m:\u001b[0m\u001b[0mbox_dim\u001b[0m\u001b[0;34m[\u001b[0m\u001b[0;36m2\u001b[0m\u001b[0;34m]\u001b[0m\u001b[0;34m,\u001b[0m \u001b[0mbox_dim\u001b[0m\u001b[0;34m[\u001b[0m\u001b[0;36m1\u001b[0m\u001b[0;34m]\u001b[0m\u001b[0;34m:\u001b[0m\u001b[0mbox_dim\u001b[0m\u001b[0;34m[\u001b[0m\u001b[0;36m3\u001b[0m\u001b[0;34m]\u001b[0m\u001b[0;34m]\u001b[0m\u001b[0;34m,\u001b[0m \u001b[0;34m(\u001b[0m\u001b[0;36m128\u001b[0m\u001b[0;34m,\u001b[0m\u001b[0;36m128\u001b[0m\u001b[0;34m)\u001b[0m\u001b[0;34m)\u001b[0m\u001b[0;34m)\u001b[0m \u001b[0;32mfor\u001b[0m \u001b[0mbox_dim\u001b[0m \u001b[0;32min\u001b[0m \u001b[0mlegal_box_dim\u001b[0m\u001b[0;34m]\u001b[0m\u001b[0;34m\u001b[0m\u001b[0;34m\u001b[0m\u001b[0m\n\u001b[0m\u001b[1;32m    116\u001b[0m \u001b[0;34m\u001b[0m\u001b[0m\n\u001b[1;32m    117\u001b[0m     \u001b[0;32mreturn\u001b[0m \u001b[0mpristine\u001b[0m\u001b[0;34m\u001b[0m\u001b[0;34m\u001b[0m\u001b[0m\n",
            "\u001b[0;32m<ipython-input-2-f80651a96d19>\u001b[0m in \u001b[0;36m<listcomp>\u001b[0;34m(.0)\u001b[0m\n\u001b[1;32m    113\u001b[0m       \u001b[0;32mreturn\u001b[0m \u001b[0;32mNone\u001b[0m\u001b[0;34m\u001b[0m\u001b[0;34m\u001b[0m\u001b[0m\n\u001b[1;32m    114\u001b[0m \u001b[0;34m\u001b[0m\u001b[0m\n\u001b[0;32m--> 115\u001b[0;31m     \u001b[0mpristine\u001b[0m\u001b[0;34m=\u001b[0m\u001b[0;34m[\u001b[0m\u001b[0mnp\u001b[0m\u001b[0;34m.\u001b[0m\u001b[0marray\u001b[0m\u001b[0;34m(\u001b[0m\u001b[0mresize\u001b[0m\u001b[0;34m(\u001b[0m\u001b[0mimg\u001b[0m\u001b[0;34m[\u001b[0m\u001b[0mbox_dim\u001b[0m\u001b[0;34m[\u001b[0m\u001b[0;36m0\u001b[0m\u001b[0;34m]\u001b[0m\u001b[0;34m:\u001b[0m\u001b[0mbox_dim\u001b[0m\u001b[0;34m[\u001b[0m\u001b[0;36m2\u001b[0m\u001b[0;34m]\u001b[0m\u001b[0;34m,\u001b[0m \u001b[0mbox_dim\u001b[0m\u001b[0;34m[\u001b[0m\u001b[0;36m1\u001b[0m\u001b[0;34m]\u001b[0m\u001b[0;34m:\u001b[0m\u001b[0mbox_dim\u001b[0m\u001b[0;34m[\u001b[0m\u001b[0;36m3\u001b[0m\u001b[0;34m]\u001b[0m\u001b[0;34m]\u001b[0m\u001b[0;34m,\u001b[0m \u001b[0;34m(\u001b[0m\u001b[0;36m128\u001b[0m\u001b[0;34m,\u001b[0m\u001b[0;36m128\u001b[0m\u001b[0;34m)\u001b[0m\u001b[0;34m)\u001b[0m\u001b[0;34m)\u001b[0m \u001b[0;32mfor\u001b[0m \u001b[0mbox_dim\u001b[0m \u001b[0;32min\u001b[0m \u001b[0mlegal_box_dim\u001b[0m\u001b[0;34m]\u001b[0m\u001b[0;34m\u001b[0m\u001b[0;34m\u001b[0m\u001b[0m\n\u001b[0m\u001b[1;32m    116\u001b[0m \u001b[0;34m\u001b[0m\u001b[0m\n\u001b[1;32m    117\u001b[0m     \u001b[0;32mreturn\u001b[0m \u001b[0mpristine\u001b[0m\u001b[0;34m\u001b[0m\u001b[0;34m\u001b[0m\u001b[0m\n",
            "\u001b[0;32m/usr/local/lib/python3.6/dist-packages/skimage/transform/_warps.py\u001b[0m in \u001b[0;36mresize\u001b[0;34m(image, output_shape, order, mode, cval, clip, preserve_range, anti_aliasing, anti_aliasing_sigma)\u001b[0m\n\u001b[1;32m    177\u001b[0m         out = warp(image, tform, output_shape=output_shape, order=order,\n\u001b[1;32m    178\u001b[0m                    \u001b[0mmode\u001b[0m\u001b[0;34m=\u001b[0m\u001b[0mmode\u001b[0m\u001b[0;34m,\u001b[0m \u001b[0mcval\u001b[0m\u001b[0;34m=\u001b[0m\u001b[0mcval\u001b[0m\u001b[0;34m,\u001b[0m \u001b[0mclip\u001b[0m\u001b[0;34m=\u001b[0m\u001b[0mclip\u001b[0m\u001b[0;34m,\u001b[0m\u001b[0;34m\u001b[0m\u001b[0;34m\u001b[0m\u001b[0m\n\u001b[0;32m--> 179\u001b[0;31m                    preserve_range=preserve_range)\n\u001b[0m\u001b[1;32m    180\u001b[0m \u001b[0;34m\u001b[0m\u001b[0m\n\u001b[1;32m    181\u001b[0m     \u001b[0;32melse\u001b[0m\u001b[0;34m:\u001b[0m  \u001b[0;31m# n-dimensional interpolation\u001b[0m\u001b[0;34m\u001b[0m\u001b[0;34m\u001b[0m\u001b[0m\n",
            "\u001b[0;32m/usr/local/lib/python3.6/dist-packages/skimage/transform/_warps.py\u001b[0m in \u001b[0;36mwarp\u001b[0;34m(image, inverse_map, map_args, output_shape, order, mode, cval, clip, preserve_range)\u001b[0m\n\u001b[1;32m    863\u001b[0m                 warped = _warp_fast(image, matrix,\n\u001b[1;32m    864\u001b[0m                                     \u001b[0moutput_shape\u001b[0m\u001b[0;34m=\u001b[0m\u001b[0moutput_shape\u001b[0m\u001b[0;34m,\u001b[0m\u001b[0;34m\u001b[0m\u001b[0;34m\u001b[0m\u001b[0m\n\u001b[0;32m--> 865\u001b[0;31m                                     order=order, mode=mode, cval=cval)\n\u001b[0m\u001b[1;32m    866\u001b[0m             \u001b[0;32melif\u001b[0m \u001b[0mimage\u001b[0m\u001b[0;34m.\u001b[0m\u001b[0mndim\u001b[0m \u001b[0;34m==\u001b[0m \u001b[0;36m3\u001b[0m\u001b[0;34m:\u001b[0m\u001b[0;34m\u001b[0m\u001b[0;34m\u001b[0m\u001b[0m\n\u001b[1;32m    867\u001b[0m                 \u001b[0mdims\u001b[0m \u001b[0;34m=\u001b[0m \u001b[0;34m[\u001b[0m\u001b[0;34m]\u001b[0m\u001b[0;34m\u001b[0m\u001b[0;34m\u001b[0m\u001b[0m\n",
            "\u001b[0;32mskimage/transform/_warps_cy.pyx\u001b[0m in \u001b[0;36mskimage.transform._warps_cy._warp_fast\u001b[0;34m()\u001b[0m\n",
            "\u001b[0;32m/usr/local/lib/python3.6/dist-packages/numpy/core/_asarray.py\u001b[0m in \u001b[0;36masarray\u001b[0;34m(a, dtype, order)\u001b[0m\n\u001b[1;32m     14\u001b[0m ]\n\u001b[1;32m     15\u001b[0m \u001b[0;34m\u001b[0m\u001b[0m\n\u001b[0;32m---> 16\u001b[0;31m \u001b[0;34m@\u001b[0m\u001b[0mset_module\u001b[0m\u001b[0;34m(\u001b[0m\u001b[0;34m'numpy'\u001b[0m\u001b[0;34m)\u001b[0m\u001b[0;34m\u001b[0m\u001b[0;34m\u001b[0m\u001b[0m\n\u001b[0m\u001b[1;32m     17\u001b[0m \u001b[0;32mdef\u001b[0m \u001b[0masarray\u001b[0m\u001b[0;34m(\u001b[0m\u001b[0ma\u001b[0m\u001b[0;34m,\u001b[0m \u001b[0mdtype\u001b[0m\u001b[0;34m=\u001b[0m\u001b[0;32mNone\u001b[0m\u001b[0;34m,\u001b[0m \u001b[0morder\u001b[0m\u001b[0;34m=\u001b[0m\u001b[0;32mNone\u001b[0m\u001b[0;34m)\u001b[0m\u001b[0;34m:\u001b[0m\u001b[0;34m\u001b[0m\u001b[0;34m\u001b[0m\u001b[0m\n\u001b[1;32m     18\u001b[0m     \"\"\"Convert the input to an array.\n",
            "\u001b[0;31mKeyboardInterrupt\u001b[0m: "
          ]
        }
      ]
    },
    {
      "cell_type": "code",
      "metadata": {
        "id": "ecjwF2l8koNt",
        "colab_type": "code",
        "outputId": "81c17efa-edde-41f5-fc56-d48af869ede0",
        "colab": {
          "base_uri": "https://localhost:8080/",
          "height": 34
        }
      },
      "source": [
        "len(new_x_train1)"
      ],
      "execution_count": 0,
      "outputs": [
        {
          "output_type": "execute_result",
          "data": {
            "text/plain": [
              "9031"
            ]
          },
          "metadata": {
            "tags": []
          },
          "execution_count": 12
        }
      ]
    },
    {
      "cell_type": "code",
      "metadata": {
        "id": "dJV-1jv1XHPD",
        "colab_type": "code",
        "colab": {}
      },
      "source": [
        "import pandas as pd\n",
        "df = pd.DataFrame(new_y_train, columns=[\"label\"])\n",
        "df.to_csv('new_y_train0.csv', index=False)"
      ],
      "execution_count": 0,
      "outputs": []
    },
    {
      "cell_type": "code",
      "metadata": {
        "id": "zDh1TNsFdzm4",
        "colab_type": "code",
        "colab": {}
      },
      "source": [
        "pickle.dump(pristine, open(\"data/pristine_box_\"+str(i)+\".pkl\", \"wb\"))"
      ],
      "execution_count": 0,
      "outputs": []
    },
    {
      "cell_type": "code",
      "metadata": {
        "id": "pJbmMMrAoVjP",
        "colab_type": "code",
        "outputId": "b42b8edf-50e1-4b58-a4c1-56263e5cc2d0",
        "colab": {
          "base_uri": "https://localhost:8080/",
          "height": 164
        }
      },
      "source": [
        "lala=pickle.load(open(\"new_x_train0\", \"rb\"))"
      ],
      "execution_count": 0,
      "outputs": [
        {
          "output_type": "error",
          "ename": "EOFError",
          "evalue": "ignored",
          "traceback": [
            "\u001b[0;31m---------------------------------------------------------------------------\u001b[0m",
            "\u001b[0;31mEOFError\u001b[0m                                  Traceback (most recent call last)",
            "\u001b[0;32m<ipython-input-9-5f7acbc8b944>\u001b[0m in \u001b[0;36m<module>\u001b[0;34m()\u001b[0m\n\u001b[0;32m----> 1\u001b[0;31m \u001b[0mlala\u001b[0m\u001b[0;34m=\u001b[0m\u001b[0mpickle\u001b[0m\u001b[0;34m.\u001b[0m\u001b[0mload\u001b[0m\u001b[0;34m(\u001b[0m\u001b[0mopen\u001b[0m\u001b[0;34m(\u001b[0m\u001b[0;34m\"new_x_train0.pkl\"\u001b[0m\u001b[0;34m,\u001b[0m \u001b[0;34m\"rb\"\u001b[0m\u001b[0;34m)\u001b[0m\u001b[0;34m)\u001b[0m\u001b[0;34m\u001b[0m\u001b[0;34m\u001b[0m\u001b[0m\n\u001b[0m",
            "\u001b[0;31mEOFError\u001b[0m: Ran out of input"
          ]
        }
      ]
    }
  ]
}