{
 "cells": [
  {
   "cell_type": "code",
   "execution_count": null,
   "metadata": {
    "colab": {
     "base_uri": "https://localhost:8080/",
     "height": 530
    },
    "colab_type": "code",
    "id": "anxbnUleHYO7",
    "outputId": "324cf056-ee6b-4077-888f-0fb4eeb83968"
   },
   "outputs": [],
   "source": [
    "#IMPORTANT: NEEDS KAGGLE API KEY UPLOADED IN ROOT DIRECTORY\n",
    "\n",
    "!pip install kaggle\n",
    "!mkdir ~/.kaggle\n",
    "!cp kaggle.json ~/.kaggle/\n",
    "!ls ~/.kaggle\n",
    "!chmod 600 /root/.kaggle/kaggle.json  # set permission\n",
    "\n",
    "!mkdir data\n",
    "!kaggle competitions download -p data/ -c modified-mnist\n",
    "\n",
    "!unzip -d data/ 'data/*.zip'\n",
    "\n"
   ]
  },
  {
   "cell_type": "code",
   "execution_count": null,
   "metadata": {
    "colab": {
     "base_uri": "https://localhost:8080/",
     "height": 1000
    },
    "colab_type": "code",
    "id": "d3QxuQMYS6n4",
    "outputId": "0caeee8c-7146-489c-a33f-a2788bdc8989"
   },
   "outputs": [],
   "source": [
    "!pip install --upgrade tensorflow-gpu\n"
   ]
  },
  {
   "cell_type": "code",
   "execution_count": null,
   "metadata": {
    "colab": {
     "base_uri": "https://localhost:8080/",
     "height": 34
    },
    "colab_type": "code",
    "id": "nrjQc43YSpk_",
    "outputId": "77aeaa18-fea3-42dc-869f-6ad79016a7a2"
   },
   "outputs": [],
   "source": [
    "\n",
    "from __future__ import absolute_import, division, print_function, unicode_literals\n",
    "import tensorflow as tf\n",
    "print(tf.__version__)"
   ]
  },
  {
   "cell_type": "code",
   "execution_count": null,
   "metadata": {
    "colab": {
     "base_uri": "https://localhost:8080/",
     "height": 34
    },
    "colab_type": "code",
    "id": "_XciFPc-e6ve",
    "outputId": "2fce533a-beb2-41f7-c568-1e07f3cd513d"
   },
   "outputs": [],
   "source": [
    "%tensorflow_version 2.x\n",
    "\n",
    "from tensorflow.python.keras.utils import Sequence\n",
    "import numpy as np\n",
    "\n",
    "import matplotlib.pyplot as plt\n",
    "\n",
    "from keras.datasets import mnist\n",
    "from random import randrange\n",
    "from keras.utils import to_categorical\n",
    "\n",
    "#Thruple_Background takes a list of pristine backgrounds as input. \n",
    "#And in a \"keras.Sequence\" fashion will give you batches of pristine \n",
    "# background and 3 digits positioned and rotated randomly with degrees \n",
    "#between -30 and 30 degrees. Per pristine background __getitem__ generates \n",
    "#10 different digit combinations. That value can be modified. \n",
    "\n",
    "def make_new_training(x_set, y_set, mnist_train, data_size):\n",
    "  x_len=len(x_set)\n",
    "  batch_size=10\n",
    "  x_train=mnist_train[0]\n",
    "  y_train=mnist_train[1]\n",
    "\n",
    "  x_train_range=len(mnist_train[0])\n",
    "  xdata=list()\n",
    "  y_data=list()\n",
    "  \n",
    "  for i in range(data_size):\n",
    "    rand1=randrange(0, x_train_range)\n",
    "    digit1=x_train[rand1]\n",
    "    result1=y_train[rand1]\n",
    "\n",
    "    rand2=randrange(0, x_train_range)\n",
    "    digit2=x_train[rand2]\n",
    "    result2=y_train[rand2]\n",
    "\n",
    "    rand3=randrange(0, x_train_range)\n",
    "    digit3=x_train[rand3]\n",
    "    result3=y_train[rand3]\n",
    "\n",
    "    angle1=randrange(-30, 30)\n",
    "    angle2=randrange(-30, 30)\n",
    "    angle3=randrange(-30, 30)\n",
    "\n",
    "    thruple=thruple_mnist(digit1, digit2, digit3, angle1=angle1, angle2=angle2, angle3=angle3)\n",
    "\n",
    "    #get a pristine box     \n",
    "    prist_num=randrange(x_len)\n",
    "\n",
    "    prist_box=pristine_box(x_train[prist_num])\n",
    "\n",
    "    new_training_sample=combine_pristine_mnist(prist_box[0], thruple)\n",
    "  \n",
    "    new_training_sample = np.reshape(new_training_sample, (128,128,1)) #adding fake color channel for CNN\n",
    "\n",
    "    xdata.append(new_training_sample / 255.) \n",
    "\n",
    "    y_data.append(max([result1, result2, result3]))   #have to categorize\n",
    "    return (np.array(x_data),np.array(y_data) )"
   ]
  },
  {
   "cell_type": "code",
   "execution_count": null,
   "metadata": {
    "colab": {
     "base_uri": "https://localhost:8080/",
     "height": 375
    },
    "colab_type": "code",
    "id": "k6c02D6q5N9b",
    "outputId": "be70265b-a52e-41e9-cfab-32ad558ae9f1"
   },
   "outputs": [],
   "source": [
    "from keras.datasets import mnist\n",
    "mnist_train, _ =mnist.load_data()\n",
    "\n",
    "(ladite, larite)=make_new_training(x_train[:49000], y_train[:49000], mnist_train, 5)"
   ]
  },
  {
   "cell_type": "code",
   "execution_count": null,
   "metadata": {
    "colab": {
     "base_uri": "https://localhost:8080/",
     "height": 1000
    },
    "colab_type": "code",
    "id": "eNr4hnBQLibA",
    "outputId": "687e00b9-5dac-4316-c767-e065cd21b260"
   },
   "outputs": [],
   "source": [
    "%tensorflow_version 2.x\n",
    "\n",
    "\n",
    "#from tensorflow.keras.layers import *\n",
    "#import tensorflow.keras as ks\n",
    "#import numpy as np\n",
    "\n",
    "#from tensorflow.keras.models import Sequential\n",
    "from tensorflow.keras.optimizers import SGD\n",
    "from tensorflow.keras.losses import categorical_crossentropy\n",
    "from tensorflow.keras.applications.vgg19 import VGG19\n",
    "#from tensorflow.keras.activations import relu\n",
    "\n",
    "model=VGG19(include_top=True, weights=None, input_tensor=None, input_shape=(128, 128, 1), pooling=None, classes=10)\n",
    "\n",
    "\n",
    "\n",
    "\n",
    "model.compile(loss='categorical_crossentropy', optimizer=SGD(lr=0.0001, decay=1e-6, momentum=0.9, nesterov=True), metrics=[\"accuracy\"])\n",
    "model.summary()"
   ]
  },
  {
   "cell_type": "code",
   "execution_count": null,
   "metadata": {
    "colab": {},
    "colab_type": "code",
    "id": "F4ZSVNU-6CC7"
   },
   "outputs": [],
   "source": [
    "from tensorflow.keras.callbacks import History\n",
    "from tensorflow.keras.models import Model\n",
    "import pickle\n",
    "import pandas as pd\n",
    "import numpy as np\n",
    "from keras.utils import to_categorical\n",
    "x_train=pickle.load(open(\"data/train_max_x\", \"rb\"))\n",
    "x_train=np.reshape(x_train, (50000, 128, 128, 1))\n",
    "df = pd.read_csv(\"data/train_max_y.csv\")\n",
    "y_train = list(df[\"Label\"])\n",
    "y_train=np.array(y_train)\n",
    "y_train = to_categorical(y_train)\n",
    "\n",
    "#keras.callbacks.ModelCheckpoint(filepath, monitor='val_loss', verbose=0, save_best_only=False, save_weights_only=False, mode='auto', period=1)\n",
    "\n",
    "\n"
   ]
  },
  {
   "cell_type": "code",
   "execution_count": null,
   "metadata": {
    "colab": {
     "base_uri": "https://localhost:8080/",
     "height": 581
    },
    "colab_type": "code",
    "id": "EcxThfYCLlBN",
    "outputId": "a3ef47b8-2c10-4f94-d469-4af90f0ea30f"
   },
   "outputs": [],
   "source": [
    "model.fit(x=x_train[:49000], y=y_train[:49000], batch_size=10, epochs=15, validation_data=(x_train[49000:], y_train[49000:]))\n"
   ]
  },
  {
   "cell_type": "code",
   "execution_count": null,
   "metadata": {
    "colab": {},
    "colab_type": "code",
    "id": "llLSvJjnwRR0"
   },
   "outputs": [],
   "source": [
    "\n",
    "from tensorflow.keras.models import load_model\n",
    "model = load_model('VGG19model3.h5')"
   ]
  },
  {
   "cell_type": "code",
   "execution_count": null,
   "metadata": {
    "colab": {},
    "colab_type": "code",
    "id": "SgKqwK696lAg"
   },
   "outputs": [],
   "source": [
    "import numpy as np\n",
    "\n",
    "x_test=np.reshape(pickle.load(open(\"data/test_max_x\", \"rb\")), (10000, 128, 128, 1))\n",
    "\n",
    "preds=model.predict(x_test)\n",
    "preds=[np.argmax(x) for x in preds]"
   ]
  },
  {
   "cell_type": "code",
   "execution_count": null,
   "metadata": {
    "colab": {},
    "colab_type": "code",
    "id": "5HGqMrJb7zsh"
   },
   "outputs": [],
   "source": [
    "import pandas as pd\n",
    "\n",
    "df = pd.DataFrame(preds, columns=[\"label\"])\n",
    "df.to_csv('list.csv', index=False)\n",
    "\n"
   ]
  },
  {
   "cell_type": "code",
   "execution_count": null,
   "metadata": {
    "colab": {},
    "colab_type": "code",
    "id": "8Qcqbj_l43lV"
   },
   "outputs": [],
   "source": [
    "model.save(\"VGG19model4epoch21.h5\")"
   ]
  },
  {
   "cell_type": "code",
   "execution_count": null,
   "metadata": {
    "colab": {
     "base_uri": "https://localhost:8080/",
     "height": 105
    },
    "colab_type": "code",
    "id": "oQJplhgCiTt7",
    "outputId": "fff385d2-0be6-4630-f4b1-b4ec1b4deeb9"
   },
   "outputs": [],
   "source": [
    "model.fit(x=x_train[:49000], y=y_train[:49000], batch_size=10, epochs=20, validation_data=(x_train[49000:], y_train[49000:]), initial_epoch=19)"
   ]
  },
  {
   "cell_type": "code",
   "execution_count": null,
   "metadata": {
    "colab": {
     "base_uri": "https://localhost:8080/",
     "height": 105
    },
    "colab_type": "code",
    "id": "4Qi7cZT7BdNy",
    "outputId": "2de7b703-b065-4404-e3c7-80f220697bad"
   },
   "outputs": [],
   "source": [
    "model.fit(x=x_train[:49000], y=y_train[:49000], batch_size=10, epochs=21, validation_data=(x_train[49000:], y_train[49000:]), initial_epoch=20)"
   ]
  },
  {
   "cell_type": "code",
   "execution_count": null,
   "metadata": {
    "colab": {
     "base_uri": "https://localhost:8080/",
     "height": 249
    },
    "colab_type": "code",
    "id": "Cy4tqALKLmKW",
    "outputId": "7365531b-8b7e-4eca-9e3e-97f89147f65a"
   },
   "outputs": [],
   "source": [
    "\n",
    "from keras.utils import to_categorical\n",
    "\n",
    "new_x_train_final=np.array(new_x_train0+new_x_train1)\n",
    "new_y_train_final=new_y_train0+new_y_train1\n",
    "new_y_train_final=np.reshape(np.array(new_x_train_final), (18052, 128, 128, 1))\n",
    "new_y_train_final = to_categorical(new_y_train_final)"
   ]
  },
  {
   "cell_type": "code",
   "execution_count": null,
   "metadata": {
    "colab": {
     "base_uri": "https://localhost:8080/",
     "height": 327
    },
    "colab_type": "code",
    "id": "4QRoeGlR1geD",
    "outputId": "ba64be5d-139c-4107-970f-a064d1d5466a"
   },
   "outputs": [],
   "source": [
    "model.fit(x=new_x_train_final, y=new_y_train_final, batch_size=10, epochs=23, validation_data=(x_train[49000:], y_train[49000:]), initial_epoch=20)"
   ]
  },
  {
   "cell_type": "code",
   "execution_count": null,
   "metadata": {
    "colab": {},
    "colab_type": "code",
    "id": "bCBZxy09SWrl"
   },
   "outputs": [],
   "source": [
    "preds=model.predict(np.reshape(x_train[49000:], (1000, 128,128,1)))"
   ]
  },
  {
   "cell_type": "code",
   "execution_count": null,
   "metadata": {
    "colab": {
     "base_uri": "https://localhost:8080/",
     "height": 34
    },
    "colab_type": "code",
    "id": "pbGY1cKExb9H",
    "outputId": "c51100f5-dd50-4df1-e81d-fc3bb38201b8"
   },
   "outputs": [],
   "source": [
    "np.argmax(y_train[2])"
   ]
  },
  {
   "cell_type": "code",
   "execution_count": null,
   "metadata": {
    "colab": {
     "base_uri": "https://localhost:8080/",
     "height": 34
    },
    "colab_type": "code",
    "id": "r2jBS4kPlcSF",
    "outputId": "e6a64d3b-a97d-4ade-e2d9-82c89ea31811"
   },
   "outputs": [],
   "source": [
    "count=0\n",
    "for i in range(len(preds)):\n",
    "  if np.argmax(preds[i])==np.argmax(y_train[i]):\n",
    "    count+=1\n",
    "print(count/len(preds))"
   ]
  },
  {
   "cell_type": "code",
   "execution_count": null,
   "metadata": {
    "colab": {
     "base_uri": "https://localhost:8080/",
     "height": 68
    },
    "colab_type": "code",
    "id": "SA9SObmISj2q",
    "outputId": "e3e79622-1e02-4cf7-a46b-534810e859b8"
   },
   "outputs": [],
   "source": [
    "preds[2]"
   ]
  },
  {
   "cell_type": "code",
   "execution_count": null,
   "metadata": {
    "colab": {},
    "colab_type": "code",
    "id": "6drN_FeMmr3t"
   },
   "outputs": [],
   "source": [
    "import numpy as np\n",
    "from skimage.measure import label, regionprops\n",
    "from skimage.transform import *\n",
    "\n",
    "digit_threshold = np.vectorize(lambda x: 255 if x > 220 else 0)\n",
    "def digit_extractor(source, top_clusters=3):\n",
    "    source = np.reshape(source, (128,128))\n",
    "\n",
    "    threshold_img = digit_threshold(source)\n",
    "    declustered_img = remove_clusters_below_size(threshold_img, size=5)\n",
    "    dilated_img = dilation(declustered_img)\n",
    "    labelled_img = label(dilated_img, connectivity = 2)\n",
    "\n",
    "    nb_clusters = np.max(labelled_img)\n",
    "\n",
    "    cluster_list = []\n",
    "    for i in range(1, nb_clusters + 1): #ignoring background\n",
    "        cluster_size = np.sum(labelled_img == i)\n",
    "        cluster_list.append((cluster_size, i))  # append tuple\n",
    "\n",
    "    cluster_list.sort(reverse=True)\n",
    "\n",
    "    cluster_imgs = []\n",
    "    for _, cluster in cluster_list[:top_clusters + 1]: #assuming that the background cluster is the largest\n",
    "\n",
    "        mask = labelled_img == cluster\n",
    "        unmasked = unmask(source, mask)\n",
    "        cropped_digit = crop(unmasked, mask)\n",
    "        padded_digit = center_by_bounding_box(cropped_digit)\n",
    "\n",
    "        cluster_imgs.append(padded_digit)\n",
    "\n",
    "    return cluster_imgs\n",
    "\n",
    "def unmask(source, mask):\n",
    "    return source * mask\n",
    "\n",
    "def crop(source, mask):\n",
    "    width = source.shape[0]\n",
    "    height = source.shape[1]\n",
    "\n",
    "    h_presence = np.sum(mask, axis=0)\n",
    "    v_presence = np.sum(mask, axis=1)\n",
    "\n",
    "    h_min = min([i for i in range(width) if h_presence[i]])\n",
    "    h_max = max([i for i in range(width) if h_presence[i]])\n",
    "\n",
    "    v_min = min([i for i in range(height) if v_presence[i]])\n",
    "    v_max = max([i for i in range(height) if v_presence[i]])\n",
    "\n",
    "    return source[v_min:v_max, h_min:h_max]\n",
    "\n",
    "\n",
    "def center_by_bounding_box(source, box_size=28):\n",
    "    height = source.shape[0]\n",
    "    width = source.shape[1]\n",
    "\n",
    "    cropped_source = source\n",
    "\n",
    "    if height > box_size:\n",
    "        excedent = int((height - box_size)/2)\n",
    "        cropped_source = cropped_source[excedent:excedent+box_size, : ]\n",
    "\n",
    "        height = box_size\n",
    "\n",
    "    if width > box_size:\n",
    "        excedent = int((width - box_size) / 2)\n",
    "        cropped_source = cropped_source[ : , excedent:excedent + box_size]\n",
    "\n",
    "        width = box_size\n",
    "\n",
    "    canvas = np.zeros((box_size, box_size))  # zero array of size box_size\n",
    "\n",
    "    height_pad = int((box_size - height) / 2)\n",
    "    width_pad = int((box_size - width) / 2)\n",
    "\n",
    "    canvas[height_pad:height_pad + height, width_pad:width_pad + width] = cropped_source\n",
    "\n",
    "    return canvas\n",
    "\n",
    "\n",
    "def remove_clusters_below_size(img, size=5):\n",
    "    labelled_img, nb_clusters = label(img, connectivity=2, return_num=True)\n",
    "    cluster_ids_to_eliminate = [0]  # 0 is the background cluster\n",
    "\n",
    "    for i in range(1, nb_clusters):\n",
    "        cluster_size = np.sum(labelled_img == i)\n",
    "\n",
    "        if size is not None and cluster_size <= size:\n",
    "            cluster_ids_to_eliminate.append(i)\n",
    "\n",
    "    elimination_map = lambda x: 0 if x in cluster_ids_to_eliminate else 255\n",
    "    vem = np.vectorize(elimination_map)\n",
    "    declustered_img = vem(labelled_img)\n",
    "    return declustered_img\n",
    "\n",
    "def threshold(source, threshold=220):\n",
    "    f = lambda x : 255 if x >= threshold else 0\n",
    "    vf = np.vectorize(f)\n",
    "\n",
    "    return vf(source)\n",
    "\n",
    "#new methods to get a pristine 28x28 box on which to add a digit. Use data_creator.py\n",
    "\n",
    "def pristine_box(img):#can produce waaaay more\n",
    "\n",
    "    bounding_boxes=get_bounding_boxes(img)\n",
    "    if bounding_boxes==None:\n",
    "      return None\n",
    "    subdiv=get_subdiv(bounding_boxes)\n",
    "    legal_box_dim=get_best_intersections(subdiv)\n",
    "    if legal_box_dim==None:\n",
    "      return None\n",
    "\n",
    "    pristine=[np.array(resize(img[box_dim[0]:box_dim[2], box_dim[1]:box_dim[3]], (128,128))) for box_dim in legal_box_dim]\n",
    "\n",
    "    return pristine\n",
    "\n",
    "def get_bounding_boxes(img):\n",
    "\n",
    "    threshold_img=threshold(img)\n",
    "    labelled_temp, nb_clusters = label(threshold_img, connectivity=2, return_num=True) #could avoid recalling this\n",
    "    props=regionprops(labelled_temp)\n",
    "    bounding_boxes=[x.bbox for x in props]\n",
    "    if len(bounding_boxes)!=3:\n",
    "      return None\n",
    "    return bounding_boxes\n",
    "\n",
    "def get_subdiv(bounding_boxes):\n",
    "    subdiv=[]\n",
    "    size=128\n",
    "    for x in bounding_boxes:\n",
    "        top=(0, 0, x[0], size)\n",
    "        right=(0, x[3], size, size)\n",
    "        bot=(x[2], 0, size, size)\n",
    "        left=(0, 0, size, x[1])\n",
    "        subdiv.append((top, right, bot, left))\n",
    "    \n",
    "    return subdiv\n",
    "\n",
    "\n",
    "def get_intersections(subdiv, thresh=28*28): #assuming we have 3 clusters\n",
    "    legal=[]\n",
    "    for x in subdiv[0]:\n",
    "        for y in subdiv[1]:\n",
    "            for z in subdiv[2]:\n",
    "                box=intersection(x, y, z)\n",
    "                size=(box[2]-box[0])*(box[3]-box[1])\n",
    "                if size>thresh:\n",
    "                    legal.append(box)\n",
    "    return legal\n",
    "\n",
    "def get_best_intersections(subdiv):\n",
    "    legal=[]\n",
    "    min_box=(0, 0, 0, 0)\n",
    "    min_size=1000000000000000000000000000000\n",
    "\n",
    "    for x in subdiv[0]:\n",
    "      for y in subdiv[1]:\n",
    "        for z in subdiv[2]:\n",
    "          box=intersection(x, y, z)\n",
    "          size=(box[2]-box[0])*(box[3]-box[1])\n",
    "          if size<min_size:\n",
    "            min_box=box\n",
    "    legal+=[box]\n",
    "\n",
    "    if min_size==0 or min_box==(0, 0, 0, 0):\n",
    "      return None\n",
    "\n",
    "    return legal\n",
    "\n",
    "\n",
    "\n",
    "def intersection(x, y, z):\n",
    "    (minrow, mincol, maxrow, maxcol)=(max(x[0], y[0], z[0]), max(x[1], y[1], z[1]), min(x[2], y[2], z[2]), min(x[3], y[3], z[3]))\n",
    "    if minrow>=maxrow or mincol>=maxcol:\n",
    "        return (0, 0, 0, 0)\n",
    "    else:\n",
    "        return (minrow, mincol, maxrow, maxcol)\n",
    "\n",
    "\n",
    "\n",
    "def reshape_pristine(pristine):\n",
    "    (width, height)=pristine.shape\n",
    "\n",
    "    if width<28 or height<28:\n",
    "        print(\"kawaboonga\")\n",
    "        return None\n",
    "    else:\n",
    "        w_cush=int((width-28)/2)\n",
    "        h_cush=int((height-28)/2)\n",
    "        w2=w_cush+28\n",
    "        h2=h_cush+28\n",
    "        return pristine[w_cush:w2, h_cush:h2]\n",
    "\n",
    "threshold2 = np.vectorize(lambda x: x if x < 255 else 255)\n",
    "\n",
    "def combine_pristine_mnist(pristine, mnist):\n",
    "    return threshold2(pristine + mnist)\n",
    "\n",
    "def thruple_mnist(digit1, digit2, digit3, angle1=0, angle2=0, angle3=0):\n",
    "    img=np.zeros((128, 128))\n",
    "    \n",
    "    #digit1=resize(digit1, (28, 28))\n",
    "    #digit2=resize(digit2, (28, 28))\n",
    "    #digit3=resize(digit3, (28, 28))\n",
    "    \n",
    "    x_1=randrange(0, 100)\n",
    "    y_1=randrange(0, 100)\n",
    "\n",
    "    x_2=randrange(0, 100)\n",
    "    y_2=randrange(0, 100)\n",
    "    \n",
    "    while (x_2<x_1+28 and x_2>=x_1-28) and (y_2<y_1+28 and y_2>=y_1-28):\n",
    "        x_2=randrange(0, 100)\n",
    "        y_2=randrange(0, 100)\n",
    "\n",
    "    x_3=randrange(0, 100)\n",
    "    y_3=randrange(0, 100)\n",
    "\n",
    "    while ((x_3<x_1+28 and x_3>=x_1-28) and (y_3<y_1+28 and y_3>=y_1-28) or (x_3<x_2+28 and x_3>=x_2-28) and (y_3<y_2+28 and y_3>=y_2-28)):\n",
    "        x_3=randrange(0, 100)\n",
    "        y_3=randrange(0, 100)\n",
    "\n",
    "    img[x_1:x_1+28, y_1:y_1+28]=rotate(digit1, angle1, preserve_range=True)\n",
    "    img[x_2:x_2+28, y_2:y_2+28]=rotate(digit2, angle2, preserve_range=True)\n",
    "    img[x_3:x_3+28, y_3:y_3+28]=rotate(digit3, angle3, preserve_range=True)\n",
    "\n",
    "    return img"
   ]
  },
  {
   "cell_type": "code",
   "execution_count": null,
   "metadata": {
    "colab": {
     "base_uri": "https://localhost:8080/",
     "height": 34
    },
    "colab_type": "code",
    "id": "JF-0RF9LVei8",
    "outputId": "2255c4df-c064-4a91-bfb5-efcda7a9079c"
   },
   "outputs": [],
   "source": [
    "from tensorflow.keras.callbacks import History\n",
    "from tensorflow.keras.models import Model\n",
    "import pickle\n",
    "import pandas as pd\n",
    "import numpy as np\n",
    "from keras.utils import to_categorical\n",
    "from keras.datasets import mnist\n",
    "\n",
    "(x_mnist, y_mnist), _=mnist.load_data()\n",
    "\n",
    "x_train=pickle.load(open(\"data/train_max_x\", \"rb\"))\n",
    "y_train=pd.read_csv(\"data/train_max_y.csv\")\n",
    "\n",
    "\n",
    "def generate_data(x_train_max, y_train_max, x_mnist, y_mnist, size):\n",
    "\n",
    "  len_train_max=len(x_train_max)\n",
    "  len_mnist=len(x_mnist)\n",
    "\n",
    "  x_data=[]\n",
    "  y_data=[]\n",
    "  for i in range(size):\n",
    "    if i%4000==0:\n",
    "      print(i)\n",
    "    \n",
    "    rand1=randrange(len_mnist)\n",
    "    digit1=x_mnist[rand1]\n",
    "    result1=y_mnist[rand1]\n",
    "\n",
    "    rand2=randrange(len_mnist)\n",
    "    digit2=x_mnist[rand2]\n",
    "    result2=y_mnist[rand2]\n",
    "\n",
    "    rand3=randrange(len_mnist)\n",
    "    digit3=x_mnist[rand3]\n",
    "    result3=y_mnist[rand3]\n",
    "\n",
    "\n",
    "    angle1=randrange(-30, 30)\n",
    "    angle2=randrange(-30, 30)\n",
    "    angle3=randrange(-30, 30)\n",
    "\n",
    "    thruple=thruple_mnist(digit1, digit2, digit3, angle1=angle1, angle2=angle2, angle3=angle3)\n",
    "\n",
    "    rand_train_max=randrange(len_train_max)\n",
    "    \n",
    "\n",
    "    x=x_train_max[rand_train_max]\n",
    "\n",
    "    pristine=pristine_box(x)\n",
    "\n",
    "    if pristine!=None:\n",
    "      rand_last=randrange(len(pristine))\n",
    "      new=combine_pristine_mnist(pristine[rand_last], thruple)\n",
    "      x_data+=[new]\n",
    "      y_data+=[np.max([result1, result2, result3])]\n",
    "\n",
    "  return (x_data, y_data)\n",
    "\n",
    "\n"
   ]
  },
  {
   "cell_type": "code",
   "execution_count": null,
   "metadata": {
    "colab": {
     "base_uri": "https://localhost:8080/",
     "height": 375
    },
    "colab_type": "code",
    "id": "EOuacwDaVg1Q",
    "outputId": "5113d01b-398e-4d16-a1f3-95b5acb85f81"
   },
   "outputs": [],
   "source": [
    "from random import randrange\n",
    "new_x_train1, new_y_train1=generate_data(x_train, y_train, x_mnist, y_mnist, 20000)"
   ]
  },
  {
   "cell_type": "code",
   "execution_count": null,
   "metadata": {
    "colab": {
     "base_uri": "https://localhost:8080/",
     "height": 34
    },
    "colab_type": "code",
    "id": "ecjwF2l8koNt",
    "outputId": "81c17efa-edde-41f5-fc56-d48af869ede0"
   },
   "outputs": [],
   "source": [
    "len(new_x_train1)"
   ]
  },
  {
   "cell_type": "code",
   "execution_count": null,
   "metadata": {
    "colab": {},
    "colab_type": "code",
    "id": "dJV-1jv1XHPD"
   },
   "outputs": [],
   "source": [
    "import pandas as pd\n",
    "df = pd.DataFrame(new_y_train, columns=[\"label\"])\n",
    "df.to_csv('new_y_train0.csv', index=False)"
   ]
  },
  {
   "cell_type": "code",
   "execution_count": null,
   "metadata": {
    "colab": {},
    "colab_type": "code",
    "id": "zDh1TNsFdzm4"
   },
   "outputs": [],
   "source": [
    "pickle.dump(pristine, open(\"data/pristine_box_\"+str(i)+\".pkl\", \"wb\"))"
   ]
  },
  {
   "cell_type": "code",
   "execution_count": null,
   "metadata": {
    "colab": {
     "base_uri": "https://localhost:8080/",
     "height": 164
    },
    "colab_type": "code",
    "id": "pJbmMMrAoVjP",
    "outputId": "b42b8edf-50e1-4b58-a4c1-56263e5cc2d0"
   },
   "outputs": [],
   "source": [
    "lala=pickle.load(open(\"new_x_train0\", \"rb\"))"
   ]
  }
 ],
 "metadata": {
  "accelerator": "GPU",
  "colab": {
   "collapsed_sections": [],
   "name": "Untitled0.ipynb",
   "provenance": []
  },
  "kernelspec": {
   "display_name": "Python 3",
   "language": "python",
   "name": "python3"
  },
  "language_info": {
   "codemirror_mode": {
    "name": "ipython",
    "version": 3
   },
   "file_extension": ".py",
   "mimetype": "text/x-python",
   "name": "python",
   "nbconvert_exporter": "python",
   "pygments_lexer": "ipython3",
   "version": "3.7.4"
  }
 },
 "nbformat": 4,
 "nbformat_minor": 1
}
